{
 "cells": [
  {
   "cell_type": "markdown",
   "metadata": {},
   "source": [
    "<img src=\"./images/python.png\">"
   ]
  },
  {
   "cell_type": "markdown",
   "metadata": {},
   "source": [
    "<div style=\"background-color:#F2F2F2; width:50%\">\n",
    "<h2>Table of contents</h2>\n",
    "<ol style=\"font-family: 'Raleway', Arial, sans-serif; font-weight: 400; font-size: 15px;\">\n",
    "    <li> <strong> Decision Making </strong> </li>\n",
    "        <ul style=\"list-style-type: circle; margin-top:0\">\n",
    "            <li> IF statement </li>\n",
    "            <li> IF...ELIF...ELSE statement </li>\n",
    "            <li> Nested IF statement </li>\n",
    "            <li> Single statement suites </li>\n",
    "        </ul>\n",
    "    <li> <strong> Loops </strong> </li>\n",
    "        <ul style=\"list-style-type: circle; margin-top:0\">\n",
    "            <li> While Loop </li>\n",
    "            <li> For Loop </li>\n",
    "            <li> Nested Loops </li>\n",
    "            <li> Loop control statements </li>\n",
    "                <ul>\n",
    "                    <li>Break statement</li>\n",
    "                    <li>Continue statement</li>\n",
    "                </ul>\n",
    "            <li> Iterator and Generator statements </li>\n",
    "                <ul>\n",
    "                    <li>Iterator</li>\n",
    "                    <li>Generator</li>\n",
    "                </ul>\n",
    "        </ul>\n",
    "    <li> <strong> Comprehesions </strong> </li>\n",
    "    <ul style=\"list-style-type: circle; margin-top:0\">\n",
    "    </ul>\n",
    "</ol>\n",
    "</div>"
   ]
  },
  {
   "cell_type": "markdown",
   "metadata": {},
   "source": [
    "<h2 style=\"color:#045FB4\">Decision Making</h2>"
   ]
  },
  {
   "cell_type": "markdown",
   "metadata": {},
   "source": [
    "<div class=\"alert alert-info\">\n",
    "**Decision making** is anticipation of conditions occurring while execution of the program and specifying actions taken according to the conditions. <br><br>\n",
    "\n",
    "Decision structures evaluate multiple expressions which produce `TRUE` or `FALSE` as outcome. You need to determine which action to take and which statements to execute if outcome is `TRUE` or `FALSE` otherwise.\n",
    "</div>"
   ]
  },
  {
   "cell_type": "markdown",
   "metadata": {},
   "source": [
    "<img src=\"./images/decision.PNG\">"
   ]
  },
  {
   "cell_type": "markdown",
   "metadata": {},
   "source": [
    "<div class=\"alert alert-info\">\n",
    "Python assumes any **`non-zero` and `non-null` values as `TRUE`**, and if it is either **`zero` or `null`, then it is assumed as `FALSE` value**.\n",
    "\n",
    "Python programming language provides following types of **decision making statements**. \n",
    "</div>"
   ]
  },
  {
   "cell_type": "markdown",
   "metadata": {},
   "source": [
    "<h3 style=\"color:#8A0808\">IF Statement</h3>"
   ]
  },
  {
   "cell_type": "markdown",
   "metadata": {},
   "source": [
    "<div class=\"alert alert-info\">\n",
    "The **if statement** contains a logical expression using which the data is compared and a decision is made based on the result of the comparison.\n",
    "</div>\n",
    "\n",
    "<h4>Syntax</h4>\n",
    "\n",
    "<pre>\n",
    "if expression:\n",
    "   statement(s)\n",
    "</pre>\n",
    "\n",
    "<p>If the boolean expression evaluates to <strong>TRUE</strong>, then the block of statement(s) inside the if statement is executed. In Python, statements in a block are uniformly indented after the : symbol. If boolean expression evaluates to <strong>FALSE</strong>, then the first set of code after the end of block is executed. </p>\n",
    "\n",
    "<h4>Flow Diagram</h4>\n",
    "<img src=\"./images/statement_if.PNG\">\n",
    "\n",
    "<h4>Examples</h4>"
   ]
  },
  {
   "cell_type": "code",
   "execution_count": 5,
   "metadata": {},
   "outputs": [
    {
     "name": "stdout",
     "output_type": "stream",
     "text": [
      "start\n",
      "a is equals to c\n",
      "a second print\n",
      "end\n"
     ]
    }
   ],
   "source": [
    "a = 5\n",
    "b = 6\n",
    "c = 5\n",
    "\n",
    "print(\"start\")\n",
    "if(a == b): \n",
    "    print(\"a is equals to b\")\n",
    "    \n",
    "if(a == c):\n",
    "    print(\"a is equals to c\")\n",
    "    \n",
    "print(\"end\")"
   ]
  },
  {
   "cell_type": "code",
   "execution_count": 6,
   "metadata": {},
   "outputs": [
    {
     "name": "stdout",
     "output_type": "stream",
     "text": [
      "1 - Got a true expression value\n",
      "1\n",
      "end\n",
      "True expression 1\n"
     ]
    }
   ],
   "source": [
    "var1 = 1\n",
    "if var1:\n",
    "    print (\"1 - Got a true expression value\")\n",
    "    print (var1)\n",
    "\n",
    "var2 = 0\n",
    "if var2:\n",
    "    print (\"2 - Got a true expression value\")\n",
    "    print (var2)\n",
    "    \n",
    "print (\"end\")\n",
    "\n",
    "#\n",
    "\n",
    "var3 = True\n",
    "if var3:\n",
    "    print(\"True expression 1\")\n",
    "    \n",
    "var4 = False\n",
    "if var4:\n",
    "    print(\"True expression 2\")"
   ]
  },
  {
   "cell_type": "markdown",
   "metadata": {},
   "source": [
    "<h3 style=\"color:#8A0808\">IF...ELIF...ELSE Statements</h3>"
   ]
  },
  {
   "cell_type": "markdown",
   "metadata": {},
   "source": [
    "<div class=\"alert alert-info\">\n",
    "An **else statement** can be combined with an **if statement**. An else statement contains a block of code that executes if the conditional expression in the if statement resolves to `0` or a `FALSE` value.\n",
    "</div>\n",
    "\n",
    "<div class=\"alert alert-warning\">\n",
    "The **else statement** is an optional statement and there could be at the most **only one else statement following if.**</div>\n",
    "\n",
    "<h4>Syntax</h4>\n",
    "<pre>\n",
    "if expression:\n",
    "   statement(s)\n",
    "\n",
    "else:\n",
    "   statement(s)\n",
    "</pre>\n",
    "\n",
    "<h4>Flow Diagram</h4>\n",
    "<img src=\"./images/statement_elif.PNG\">\n",
    "\n",
    "<h4>Example</h4>"
   ]
  },
  {
   "cell_type": "code",
   "execution_count": 7,
   "metadata": {},
   "outputs": [
    {
     "name": "stdout",
     "output_type": "stream",
     "text": [
      "Discount 250.0\n",
      "Net payable: 2250.0\n"
     ]
    }
   ],
   "source": [
    "amount = 2500\n",
    "\n",
    "if amount<1000:\n",
    "    discount = amount*0.05\n",
    "    print (\"Discount\",discount)\n",
    "else:\n",
    "    discount = amount*0.10\n",
    "    print (\"Discount\",discount)\n",
    "    \n",
    "print (\"Net payable:\",amount-discount)"
   ]
  },
  {
   "cell_type": "markdown",
   "metadata": {},
   "source": [
    "<h3>The elif Statement</h3>"
   ]
  },
  {
   "cell_type": "markdown",
   "metadata": {},
   "source": [
    "<div class=\"alert alert-info\">\n",
    "The **elif statement** allows you to check **multiple expressions for TRUE** and execute a block of code as soon as one of the conditions evaluates to `TRUE`.\n",
    "<br><br>\n",
    "Similar to the else, the elif statement is optional. However, unlike else, for which there can be at the most one statement, there **can be an arbitrary number of elif statements following an if**.\n",
    "</div>\n",
    "\n",
    "<h4>Syntax</h4>\n",
    "<pre>\n",
    "if expression1:\n",
    "   statement(s)\n",
    "elif expression2:\n",
    "   statement(s)\n",
    "elif expression3:\n",
    "   statement(s)\n",
    "else:\n",
    "   statement(s)\n",
    "</pre>\n",
    "\n",
    "<h4>Example</h4>"
   ]
  },
  {
   "cell_type": "code",
   "execution_count": 10,
   "metadata": {},
   "outputs": [
    {
     "name": "stdout",
     "output_type": "stream",
     "text": [
      "Enter Amount:  7500\n",
      "Discount:  1125.0\n",
      "Net payable: 6375.0\n"
     ]
    }
   ],
   "source": [
    "amount = 7500\n",
    "\n",
    "print (\"Enter Amount: \", amount)\n",
    "\n",
    "if amount<1000:\n",
    "    discount = amount*0.05\n",
    "    print (\"Discount\",discount)\n",
    "elif amount<5000:\n",
    "    discount = amount*0.10\n",
    "    print (\"Discount\",discount)\n",
    "else:\n",
    "    discount = amount*0.15\n",
    "    print (\"Discount: \",discount)\n",
    "\n",
    "print (\"Net payable:\",amount-discount)"
   ]
  },
  {
   "cell_type": "markdown",
   "metadata": {},
   "source": [
    "<h3 style=\"color:#8A0808\">Nested IF Statements</h3>"
   ]
  },
  {
   "cell_type": "markdown",
   "metadata": {},
   "source": [
    "<div class=\"alert alert-info\">\n",
    "There may be a situation when you want to check for another condition after a condition resolves to true. In such a situation, you can use the nested **if** construct.\n",
    "<br><br>\n",
    "In a nested if construct, you can have an i**f...elif...else** construct inside another **if...elif...else** construct.\n",
    "</div>\n",
    "\n",
    "<h4>Syntax</h4>\n",
    "<pre>\n",
    "if expression1:\n",
    "   statement(s)\n",
    "   if expression2:\n",
    "      statement(s)\n",
    "   elif expression3:\n",
    "      statement(s)\n",
    "   else\n",
    "      statement(s)\n",
    "elif expression4:\n",
    "   statement(s)\n",
    "else:\n",
    "   statement(s)\n",
    "</pre>\n",
    "\n",
    "<h4>Example</h4>"
   ]
  },
  {
   "cell_type": "code",
   "execution_count": 55,
   "metadata": {},
   "outputs": [
    {
     "name": "stdout",
     "output_type": "stream",
     "text": [
      "enter number: 50\n",
      "divisible by 2 not divisible by 3\n"
     ]
    }
   ],
   "source": [
    "num = int(input(\"enter number: \"))\n",
    "if num%2 == 0:\n",
    "    if num%3 == 0:\n",
    "        print (\"Divisible by 3 and 2\")\n",
    "    else:\n",
    "        print (\"divisible by 2 not divisible by 3\")\n",
    "else:\n",
    "    if num%3 == 0:\n",
    "        print (\"divisible by 3 not divisible by 2\")\n",
    "    else:\n",
    "        print  (\"not Divisible by 2 not divisible by 3\")"
   ]
  },
  {
   "cell_type": "markdown",
   "metadata": {},
   "source": [
    "<h3 style=\"color:#8A0808\">Single Statement Suites</h3>"
   ]
  },
  {
   "cell_type": "markdown",
   "metadata": {},
   "source": [
    "<div class=\"alert alert-warning\">\n",
    "If the suite of an *if* clause consists only of a single line, it may go on the same line as the header statement.\n",
    "</div>\n",
    "\n",
    "<h4>Example</h4>"
   ]
  },
  {
   "cell_type": "code",
   "execution_count": 57,
   "metadata": {},
   "outputs": [
    {
     "name": "stdout",
     "output_type": "stream",
     "text": [
      "Value of expression is 100\n",
      "bye!\n"
     ]
    }
   ],
   "source": [
    "var = 100\n",
    "if ( var  == 100 ) : print (\"Value of expression is 100\")\n",
    "print (\"bye!\")"
   ]
  },
  {
   "cell_type": "markdown",
   "metadata": {},
   "source": [
    "<h2 style=\"color:#045FB4\">Loops</h2>"
   ]
  },
  {
   "cell_type": "markdown",
   "metadata": {},
   "source": [
    "<div class=\"alert alert-info\">\n",
    "Generally, statements are executed sequentially, but sometimes you need to execute a block of code several number of times.<br><br>\n",
    "A **loop statement** allows us to execute a statement or group of statements multiple times. \n",
    "</div>\n",
    "\n",
    "<h4>Flow Diagram</h4>\n",
    "<img src=\"./images/loop.PNG\">\n",
    "\n",
    "<p>Python programming language provides the following types of loops to handle looping requirements.</p>"
   ]
  },
  {
   "cell_type": "markdown",
   "metadata": {},
   "source": [
    "<h3 style=\"color:#8A0808\">While Loop</h3>"
   ]
  },
  {
   "cell_type": "markdown",
   "metadata": {},
   "source": [
    "<div class=\"alert alert-info\">\n",
    "A **while loop statement**, repeatedly executes a target statement as long as a given condition is true. <br>\n",
    "</div>\n",
    "\n",
    "<h4>Syntax</h4>\n",
    "<pre>\n",
    "while expression:\n",
    "    statement(s)\n",
    "</pre>\n",
    "\n",
    "<p>\n",
    "The condition may be any expression, and true is any non-zero value. The loop iterates while the condition is true.\n",
    "</p>\n",
    "<p>\n",
    "When the condition becomes false, program control passes to the line immediately following the loop.\n",
    "</p>\n",
    "\n",
    "<h4>Flow Diagram</h4>\n",
    "<img src=\"./images/loop_for.PNG\">\n",
    "\n",
    "<h4>Example</h4>"
   ]
  },
  {
   "cell_type": "code",
   "execution_count": 59,
   "metadata": {},
   "outputs": [
    {
     "name": "stdout",
     "output_type": "stream",
     "text": [
      "The count is: 0\n",
      "The count is: 1\n",
      "The count is: 2\n",
      "The count is: 3\n",
      "The count is: 4\n",
      "The count is: 5\n",
      "The count is: 6\n",
      "The count is: 7\n",
      "The count is: 8\n",
      "bye!\n"
     ]
    }
   ],
   "source": [
    "#The loop might not ever run\n",
    "count = 0 \n",
    "while (count < 9):\n",
    "    print ('The count is:', count)\n",
    "    count += 1\n",
    "\n",
    "print (\"bye!\")"
   ]
  },
  {
   "cell_type": "markdown",
   "metadata": {},
   "source": [
    "<h3 style=\"color:#8A0808\">For Loop</h3>"
   ]
  },
  {
   "cell_type": "markdown",
   "metadata": {},
   "source": [
    "<div class=\"alert alert-info\">\n",
    "The **for statement** has the ability to iterate over the items of any sequence, such as a list or a string. <br>\n",
    "</div>\n",
    "\n",
    "<h4>Syntax</h4>\n",
    "<pre>\n",
    "for iterating_var in sequence:\n",
    "   statements(s)\n",
    "</pre>\n",
    "\n",
    "<p>\n",
    "the first item in the sequence is assigned to the iterating variable iterating_var. Next, the statements block is executed. Each item in the list is assigned to iterating_var, and the statement(s) block is executed until the entire sequence is exhausted.\n",
    "</p>\n",
    "\n",
    "<h4>Flow Diagram</h4>\n",
    "<img src=\"./images/loop_while.PNG\">"
   ]
  },
  {
   "cell_type": "markdown",
   "metadata": {},
   "source": [
    "<h4>range() function</h4>"
   ]
  },
  {
   "cell_type": "code",
   "execution_count": 61,
   "metadata": {},
   "outputs": [
    {
     "data": {
      "text/plain": [
       "range(0, 5)"
      ]
     },
     "execution_count": 61,
     "metadata": {},
     "output_type": "execute_result"
    }
   ],
   "source": [
    "range(5)"
   ]
  },
  {
   "cell_type": "code",
   "execution_count": 1,
   "metadata": {},
   "outputs": [
    {
     "data": {
      "text/plain": [
       "[0, 1, 2, 3, 4]"
      ]
     },
     "execution_count": 1,
     "metadata": {},
     "output_type": "execute_result"
    }
   ],
   "source": [
    "list(range(5))"
   ]
  },
  {
   "cell_type": "markdown",
   "metadata": {},
   "source": [
    "<h4>Example</h4>"
   ]
  },
  {
   "cell_type": "code",
   "execution_count": 2,
   "metadata": {},
   "outputs": [
    {
     "name": "stdout",
     "output_type": "stream",
     "text": [
      "0\n",
      "1\n",
      "2\n",
      "3\n",
      "4\n"
     ]
    }
   ],
   "source": [
    "for var in list(range(5)):\n",
    "    print (var)"
   ]
  },
  {
   "cell_type": "code",
   "execution_count": 3,
   "metadata": {},
   "outputs": [
    {
     "name": "stdout",
     "output_type": "stream",
     "text": [
      "Letter 1 : P\n",
      "Letter 2 : y\n",
      "Letter 3 : t\n",
      "Letter 4 : h\n",
      "Letter 5 : o\n",
      "Letter 6 : n\n",
      "\n",
      "Current person : Mary\n",
      "Current person : Jhon\n",
      "Current person : Daniel\n",
      "\n",
      "bye!\n"
     ]
    }
   ],
   "source": [
    "count = 1\n",
    "for letter in 'Python':     # traversal of a string sequence\n",
    "    print ('Letter', count, ':', letter)\n",
    "    count += 1\n",
    "\n",
    "print()\n",
    "\n",
    "persons = ['Mary', 'Jhon', 'Daniel']\n",
    "for person in persons:        # traversal of List sequence\n",
    "    print ('Current person :', person)\n",
    "\n",
    "print (\"\\nbye!\")"
   ]
  },
  {
   "cell_type": "markdown",
   "metadata": {},
   "source": [
    "<h4>Iterating by Sequence Index</h4>"
   ]
  },
  {
   "cell_type": "code",
   "execution_count": 4,
   "metadata": {},
   "outputs": [
    {
     "name": "stdout",
     "output_type": "stream",
     "text": [
      "Person 0 : Mary\n",
      "Person 1 : Jhon\n",
      "Person 2 : Daniel\n",
      "\n",
      "bye!\n"
     ]
    }
   ],
   "source": [
    "persons = ['Mary', 'Jhon', 'Daniel']\n",
    "\n",
    "for index in range(len(persons)):\n",
    "    print ('Person', index ,':', persons[index])\n",
    "\n",
    "print (\"\\nbye!\")\n",
    "\n",
    "#len() function -- provides the total number of elements in the tuple"
   ]
  },
  {
   "cell_type": "markdown",
   "metadata": {},
   "source": [
    "<h4>Using else Statement with Loops</h4>"
   ]
  },
  {
   "cell_type": "code",
   "execution_count": 11,
   "metadata": {},
   "outputs": [
    {
     "name": "stdout",
     "output_type": "stream",
     "text": [
      "the list contains an even number\n"
     ]
    }
   ],
   "source": [
    "numbers = [12,33,55,39,55,75,37,21,23,41,13]\n",
    "\n",
    "for num in numbers:\n",
    "    if num%2 == 0:\n",
    "        print ('the list contains an even number')\n",
    "        break\n",
    "    else:\n",
    "        print ('the list does not contain even number')"
   ]
  },
  {
   "cell_type": "markdown",
   "metadata": {},
   "source": [
    "<h3 style=\"color:#8A0808\">Nested Loops</h3>"
   ]
  },
  {
   "cell_type": "markdown",
   "metadata": {},
   "source": [
    "<div class=\"alert alert-info\">\n",
    "Python allows the usage of one loop inside another loop. The following section shows a few examples to illustrate the concept.\n",
    "</div>\n",
    "\n",
    "<h4>Syntax</h4>\n",
    "<pre>\n",
    "for iterating_var in sequence:\n",
    "   for iterating_var in sequence:\n",
    "      statements(s)\n",
    "   statements(s)\n",
    "</pre>\n",
    "\n",
    "<p>\n",
    "The syntax for a nested while loop statement in Python programming language is as follows.\n",
    "</p>\n",
    "\n",
    "<pre>\n",
    "while expression:\n",
    "   while expression:\n",
    "      statement(s)\n",
    "   statement(s)\n",
    "</pre>\n",
    "\n",
    "<h4>Example</h4>"
   ]
  },
  {
   "cell_type": "code",
   "execution_count": 1,
   "metadata": {},
   "outputs": [
    {
     "name": "stdout",
     "output_type": "stream",
     "text": [
      "1\t2\t3\t4\t5\t6\t7\t8\t9\t10\t\n",
      "2\t4\t6\t8\t10\t12\t14\t16\t18\t20\t\n",
      "3\t6\t9\t12\t15\t18\t21\t24\t27\t30\t\n",
      "4\t8\t12\t16\t20\t24\t28\t32\t36\t40\t\n",
      "5\t10\t15\t20\t25\t30\t35\t40\t45\t50\t\n",
      "6\t12\t18\t24\t30\t36\t42\t48\t54\t60\t\n",
      "7\t14\t21\t28\t35\t42\t49\t56\t63\t70\t\n",
      "8\t16\t24\t32\t40\t48\t56\t64\t72\t80\t\n",
      "9\t18\t27\t36\t45\t54\t63\t72\t81\t90\t\n",
      "10\t20\t30\t40\t50\t60\t70\t80\t90\t100\t\n"
     ]
    }
   ],
   "source": [
    "import sys\n",
    "for i in range(1,11):\n",
    "    for j in range(1,11):\n",
    "        k=i*j\n",
    "        print (k, end='\\t')\n",
    "    print()\n",
    "\n",
    "#The print() function inner loop has end='\\n' which appends a tab instead of default newline. \n",
    "#So, the numbers will appear in one row.\n",
    "#Last print() will be executed at the end of inner for loop."
   ]
  },
  {
   "cell_type": "markdown",
   "metadata": {},
   "source": [
    "<h3 style=\"color:#045FB4\">Loop Control Statements</h3>"
   ]
  },
  {
   "cell_type": "markdown",
   "metadata": {},
   "source": [
    "<h3 style=\"color:#8A0808\">Break Statement</h3>"
   ]
  },
  {
   "cell_type": "markdown",
   "metadata": {},
   "source": [
    "<div class=\"alert alert-info\">\n",
    "The **break statement** is used for premature termination of the current loop. <br>\n",
    "If you are using nested loops, the break statement stops the execution of the **innermost loop** and starts executing the next line of the code after the block.\n",
    "</div>\n",
    "\n",
    "<h4>Syntax</h4>\n",
    "<pre>\n",
    "break\n",
    "</pre>\n",
    "\n",
    "<h4>Flow Diagram</h4>\n",
    "<img src=\"./images/loop_break.PNG\">\n",
    "\n",
    "<h4>Example</h4>"
   ]
  },
  {
   "cell_type": "code",
   "execution_count": 9,
   "metadata": {},
   "outputs": [
    {
     "name": "stdout",
     "output_type": "stream",
     "text": [
      "Current Letter  : P\n",
      "Current Letter  : y\n",
      "Current Letter  : t\n",
      "Current value : 10\n",
      "Current value : 9\n",
      "Current value : 8\n",
      "Current value : 7\n",
      "Current value : 6\n",
      "\n",
      "bye!\n"
     ]
    }
   ],
   "source": [
    "for letter in 'Python':     # First Example\n",
    "    if letter == 'h':\n",
    "        break\n",
    "    print ('Current Letter  :', letter)\n",
    "\n",
    "aux = 10                    # Second Example\n",
    "while aux > 0:              \n",
    "    print ('Current value :', aux)\n",
    "    aux -= 1\n",
    "    if aux == 5:\n",
    "        break\n",
    "\n",
    "print (\"\\nbye!\")"
   ]
  },
  {
   "cell_type": "code",
   "execution_count": 10,
   "metadata": {},
   "outputs": [
    {
     "name": "stdout",
     "output_type": "stream",
     "text": [
      "Give me a number: 55\n",
      "number found in list\n"
     ]
    }
   ],
   "source": [
    "no = int(input('Give me a number: '))\n",
    "numbers = [11,33,55,39,55,75,37,21,23,41,13]\n",
    "\n",
    "for num in numbers:\n",
    "    if num == no:\n",
    "        print ('number found in list')\n",
    "        break\n",
    "else:\n",
    "    print ('number not found in list')"
   ]
  },
  {
   "cell_type": "markdown",
   "metadata": {},
   "source": [
    "<h3 style=\"color:#8A0808\">Continue Statement</h3>"
   ]
  },
  {
   "cell_type": "markdown",
   "metadata": {},
   "source": [
    "<div class=\"alert alert-info\">\n",
    "The **continue statement** returns the control to the beginning of the current loop. When encountered, the loop starts next iteration without executing the remaining statements in the current iteration.\n",
    "</div>\n",
    "\n",
    "<h4>Syntax</h4>\n",
    "<pre>\n",
    "continue\n",
    "</pre>\n",
    "\n",
    "<h4>Flow Diagram</h4>\n",
    "<img src=\"./images/loop_continue.PNG\">\n",
    "\n",
    "\n",
    "<h4>Example</h4>"
   ]
  },
  {
   "cell_type": "code",
   "execution_count": 12,
   "metadata": {},
   "outputs": [
    {
     "name": "stdout",
     "output_type": "stream",
     "text": [
      "Current Letter : P\n",
      "Current Letter : y\n",
      "Current Letter : t\n",
      "Current Letter : o\n",
      "Current Letter : n\n",
      "Current variable value : 9\n",
      "Current variable value : 8\n",
      "Current variable value : 7\n",
      "Current variable value : 6\n",
      "Current variable value : 4\n",
      "Current variable value : 3\n",
      "Current variable value : 2\n",
      "Current variable value : 1\n",
      "Current variable value : 0\n",
      "\n",
      " bye!\n"
     ]
    }
   ],
   "source": [
    "for letter in 'Python':     # First Example\n",
    "    if letter == 'h':\n",
    "        continue\n",
    "    print ('Current Letter :', letter)\n",
    "\n",
    "aux = 10                    # Second Example\n",
    "while aux > 0:              \n",
    "    aux = aux -1\n",
    "    if aux == 5:\n",
    "        continue\n",
    "    print ('Current variable value :', aux)\n",
    "print (\"\\n bye!\")"
   ]
  },
  {
   "cell_type": "markdown",
   "metadata": {},
   "source": [
    "<h3 style=\"color:#045FB4\">Iterator and Generator</h3>"
   ]
  },
  {
   "cell_type": "markdown",
   "metadata": {},
   "source": [
    "<h3 style=\"color:#8A0808\">Iterator</h3>"
   ]
  },
  {
   "cell_type": "markdown",
   "metadata": {},
   "source": [
    "<div class=\"alert alert-info\">\n",
    "**Iterator** is an object which allows a programmer to traverse through all the elements of a collection, regardless of its specific implementation. In Python, an iterator object implements two methods, **iter()** and **next()**.\n",
    "</div>\n",
    "<h4>Example</h4>"
   ]
  },
  {
   "cell_type": "code",
   "execution_count": 22,
   "metadata": {},
   "outputs": [
    {
     "name": "stdout",
     "output_type": "stream",
     "text": [
      "1\n",
      "2 3 4 "
     ]
    }
   ],
   "source": [
    "lists = [1,2,3,4]\n",
    "it = iter(lists) # this builds an iterator object\n",
    "print (next(it)) #prints next available element in iterator\n",
    "# Iterator object can be traversed using regular for statement\n",
    "# !usr/bin/python3\n",
    "\n",
    "for x in it:\n",
    "    print (x, end=\" \")\n",
    "# or using next() function\n",
    "\n",
    "while True:\n",
    "    try:\n",
    "        print (\"Next element: \",next(it))\n",
    "    except StopIteration:\n",
    "        break        #sys.exit() #you have to import sys module for this"
   ]
  },
  {
   "cell_type": "markdown",
   "metadata": {},
   "source": [
    "<h3 style=\"color:#8A0808\">Generator</h3>"
   ]
  },
  {
   "cell_type": "markdown",
   "metadata": {},
   "source": [
    "<div class=\"alert alert-info\">\n",
    "**Generator** is a function that produces or yields a sequence of values using yield method.\n",
    "</div>\n",
    "\n",
    "<h4>Example</h4>\n",
    "The following example defines a generator, which generates an iterator for all the Fibonacci numbers."
   ]
  },
  {
   "cell_type": "code",
   "execution_count": 12,
   "metadata": {},
   "outputs": [
    {
     "name": "stdout",
     "output_type": "stream",
     "text": [
      "0 1 1 2 3 5 "
     ]
    }
   ],
   "source": [
    "#import sys\n",
    "def fibonacci(n): #generator function\n",
    "    a, b, counter = 0, 1, 0\n",
    "    while True:\n",
    "        if (counter > n): \n",
    "            return\n",
    "        yield a\n",
    "        a, b = b, a + b\n",
    "        counter += 1\n",
    "\n",
    "f = fibonacci(5) #f is iterator object\n",
    "\n",
    "while True:\n",
    "    try:\n",
    "        print (next(f), end=\" \")\n",
    "    except StopIteration:\n",
    "        break#sys.exit()"
   ]
  },
  {
   "cell_type": "markdown",
   "metadata": {},
   "source": [
    "<h2 style=\"color:#045FB4\">Comprehesions</h2>\n",
    "\n",
    "<div class=\"alert alert-info\">\n",
    "Python supports a concept called \"list comprehensions\". It can be used to construct lists in a very natural, easy way, like a mathematician is used to do.\n",
    "\n",
    "The following are common ways to describe lists (or sets, or tuples, or vectors) in mathematics.\n",
    "</div>\n",
    "\n",
    "S = {x² : x in {0 ... 9}}\n",
    "\n",
    "V = (1, 2, 4, 8, ..., 2¹²)\n",
    "\n",
    "M = {x | x in S and x even}\n",
    "<div class=\"alert alert-info\">\n",
    "You probably know things like the above from mathematics lessons at school. In Python, you can write these expression almost exactly like a mathematician would do, without having to remember any special cryptic syntax.\n",
    "\n",
    "This is how you do the above in Python:\n",
    "</div>"
   ]
  },
  {
   "cell_type": "code",
   "execution_count": 2,
   "metadata": {},
   "outputs": [
    {
     "name": "stdout",
     "output_type": "stream",
     "text": [
      "[0, 1, 4, 9, 16, 25, 36, 49, 64, 81]\n",
      "[1, 2, 4, 8, 16, 32, 64, 128, 256, 512, 1024, 2048, 4096]\n",
      "[0, 4, 16, 36, 64]\n"
     ]
    }
   ],
   "source": [
    "S = [x**2 for x in range(10)]\n",
    "V = [2**i for i in range(13)]\n",
    "M = [x for x in S if x % 2 == 0]\n",
    "\n",
    "print(S); print(V); print(M)"
   ]
  },
  {
   "cell_type": "markdown",
   "metadata": {},
   "source": [
    "<div class=\"alert alert-info\">\n",
    "The following is yet another way to compute prime numbers. The interesting thing is that we first build a list of non-prime numbers, using a single list comprehension, then use another list comprehension to get the \"inverse\" of the list, which are prime numbers.\n",
    "</div>"
   ]
  },
  {
   "cell_type": "code",
   "execution_count": 3,
   "metadata": {},
   "outputs": [
    {
     "name": "stdout",
     "output_type": "stream",
     "text": [
      "[2, 3, 5, 7, 11, 13, 17, 19, 23, 29, 31, 37, 41, 43, 47]\n"
     ]
    }
   ],
   "source": [
    "noprimes = [j for i in range(2, 8) for j in range(i*2, 50, i)]\n",
    "primes = [x for x in range(2, 50) if x not in noprimes]\n",
    "print(primes)"
   ]
  },
  {
   "cell_type": "markdown",
   "metadata": {},
   "source": [
    "<div class=\"alert alert-info\">\n",
    "You can nest list comprehensions inside of each other, so you could write the above example with a single statement (without the need for the temporary variable \"noprimes\"). However, such lines tend to get long and less readable, so this is not recommended.\n",
    "<p>\n",
    "Of course, list comprehensions don't only work for numbers. Lists can contain any type of elements, including strings, nested lists and functions. You can even mix different types within a list.\n",
    "<p>\n",
    "The following works on a list of strings and produces a list of lists. Each of the sublists contains two strings and an integer.\n",
    "</div>"
   ]
  },
  {
   "cell_type": "code",
   "execution_count": 6,
   "metadata": {},
   "outputs": [
    {
     "name": "stdout",
     "output_type": "stream",
     "text": [
      "['The', 'quick', 'brown', 'fox', 'jumps', 'over', 'the', 'lazy', 'dog']\n"
     ]
    }
   ],
   "source": [
    "words = 'The quick brown fox jumps over the lazy dog'.split()\n",
    "print(words)"
   ]
  },
  {
   "cell_type": "code",
   "execution_count": 7,
   "metadata": {},
   "outputs": [
    {
     "name": "stdout",
     "output_type": "stream",
     "text": [
      "['THE', 'the', 3]\n",
      "['QUICK', 'quick', 5]\n",
      "['BROWN', 'brown', 5]\n",
      "['FOX', 'fox', 3]\n",
      "['JUMPS', 'jumps', 5]\n",
      "['OVER', 'over', 4]\n",
      "['THE', 'the', 3]\n",
      "['LAZY', 'lazy', 4]\n",
      "['DOG', 'dog', 3]\n"
     ]
    }
   ],
   "source": [
    "stuff = [[w.upper(), w.lower(), len(w)] for w in words]\n",
    "for i in stuff:\n",
    "    print(i)"
   ]
  },
  {
   "cell_type": "code",
   "execution_count": 9,
   "metadata": {},
   "outputs": [
    {
     "name": "stdout",
     "output_type": "stream",
     "text": [
      "['THE', 'the', 3]\n",
      "['QUICK', 'quick', 5]\n",
      "['BROWN', 'brown', 5]\n",
      "['FOX', 'fox', 3]\n",
      "['JUMPS', 'jumps', 5]\n",
      "['OVER', 'over', 4]\n",
      "['THE', 'the', 3]\n",
      "['LAZY', 'lazy', 4]\n",
      "['DOG', 'dog', 3]\n"
     ]
    }
   ],
   "source": [
    "stuff = map(lambda w: [w.upper(), w.lower(), len(w)], words)\n",
    "for i in stuff:\n",
    "    print(i)"
   ]
  },
  {
   "cell_type": "markdown",
   "metadata": {},
   "source": [
    "<div class=\"alert alert-info\">\n",
    "The above example also demonstrates that you can do exactly the same thing with map() and a lambda function. However, there are cases when you cannot use map() and have to use a list comprehension instead, or vice versa. When you can use both, then it is often preferable to use a list comprehension, because this is more efficient and easier to read, most of the time.\n",
    "<p>\n",
    "You cannot use list comprehensions when the construction rule is too complicated to be expressed with \"for\" and \"if\" statements, or if the construction rule can change dynamically at runtime. In this case, you better use map() and / or filter() with an appropriate function. Of course, you can combine that with list comprehensions.\n",
    "</div>"
   ]
  }
 ],
 "metadata": {
  "kernelspec": {
   "display_name": "Python 3",
   "language": "python",
   "name": "python3"
  },
  "language_info": {
   "codemirror_mode": {
    "name": "ipython",
    "version": 3
   },
   "file_extension": ".py",
   "mimetype": "text/x-python",
   "name": "python",
   "nbconvert_exporter": "python",
   "pygments_lexer": "ipython3",
   "version": "3.6.5"
  }
 },
 "nbformat": 4,
 "nbformat_minor": 2
}
