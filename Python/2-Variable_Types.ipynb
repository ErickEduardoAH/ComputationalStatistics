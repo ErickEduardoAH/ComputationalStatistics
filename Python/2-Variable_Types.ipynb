{
 "cells": [
  {
   "cell_type": "markdown",
   "metadata": {},
   "source": [
    "<img src=\"./images/python.png\">"
   ]
  },
  {
   "cell_type": "markdown",
   "metadata": {},
   "source": [
    "<h1>Hitchhiker's Guide to Data Science: Python</h1>"
   ]
  },
  {
   "cell_type": "markdown",
   "metadata": {},
   "source": [
    "<div style=\"background-color:#F2F2F2; width:50%\">\n",
    "<h2>Table of contents</h2>\n",
    "<ol style=\"font-family: 'Raleway', Arial, sans-serif; font-weight: 400; font-size: 15px;\" start=\"4\">\n",
    "    <li> <strong> Variables Assignment </strong> </li>\n",
    "    <li> <strong> Standard Data Types </strong> </li>\n",
    "    <li> <strong> Python Numbers </strong> </li>\n",
    "        <ul style=\"list-style-type: circle; margin-top:0\">\n",
    "            <li> Numerical Types </li>\n",
    "            <li> Number Type Conversion </li>\n",
    "        </ul>\n",
    "    <li> <strong> Python Strings </strong> </li>\n",
    "    <li> <strong> Python Lists </strong> </li>\n",
    "    <li> <strong> Python Tuples </strong> </li>\n",
    "    <li> <strong> Python Dictionary </strong> </li>\n",
    "</ol>\n",
    "</div>"
   ]
  },
  {
   "cell_type": "markdown",
   "metadata": {},
   "source": [
    "<h2 style=\"color:#045FB4\">Variables Assignment</h2>"
   ]
  },
  {
   "cell_type": "markdown",
   "metadata": {},
   "source": [
    "<div class=\"alert alert-info\">**Python variables** do not need explicit declaration to reserve memory space. The declaration happens automatically when you assign a value to a variable. The equal sign (`=`) is used to assign values to variables.\n",
    "<br><br>\n",
    "The operand to the left of the `=` operator is the **name of the variable** and the operand to the right of the `=` operator is the **value stored** in the variable.\n",
    "<br><br>\n",
    "The names of the variables in Python can contain **alphanumeric characters** (starting with a letter) a-z, A-Z, 0-9, and other symbols such as `_`.\n",
    "</div>\n",
    "\n",
    "\n",
    "<div class=\"alert alert-warning\"><strong><code>Reserved Words:</code></strong><br>\n",
    "<strong>\n",
    "and, as, assert, break, class, continue, def, del, elif, else, except, exec, finally, for, from, global, if, import, in, is, lambda, not, or, pass, print, raise, return, try, while, with, yield\n",
    "</strong>\n",
    "</div>"
   ]
  },
  {
   "cell_type": "code",
   "execution_count": null,
   "metadata": {
    "collapsed": true
   },
   "outputs": [],
   "source": [
    "myvalue = 5"
   ]
  },
  {
   "cell_type": "markdown",
   "metadata": {},
   "source": [
    "<p style=\"color:#8A0808; font-style: italic;\">Assignment in Python don't print the result on-screen, if we want it: </p>"
   ]
  },
  {
   "cell_type": "code",
   "execution_count": null,
   "metadata": {
    "collapsed": true
   },
   "outputs": [],
   "source": [
    "myvalue = 50.65\n",
    "myvalue"
   ]
  },
  {
   "cell_type": "code",
   "execution_count": 6,
   "metadata": {},
   "outputs": [
    {
     "data": {
      "text/plain": [
       "(1, 2, 3)"
      ]
     },
     "execution_count": 6,
     "metadata": {},
     "output_type": "execute_result"
    }
   ],
   "source": [
    "x, y = 1, 2\n",
    "z = 3\n",
    "x, y, z"
   ]
  },
  {
   "cell_type": "markdown",
   "metadata": {},
   "source": [
    "<div class=\"alert alert-info\">\n",
    "As we saw in the previous cell, you can make **multiple assignment**, also to exchange values between variables:</div>"
   ]
  },
  {
   "cell_type": "code",
   "execution_count": 7,
   "metadata": {},
   "outputs": [
    {
     "data": {
      "text/plain": [
       "(23, 15)"
      ]
     },
     "execution_count": 7,
     "metadata": {},
     "output_type": "execute_result"
    }
   ],
   "source": [
    "x, y = 15, 23\n",
    "x, y = y, x\n",
    "x, y"
   ]
  },
  {
   "cell_type": "code",
   "execution_count": 1,
   "metadata": {},
   "outputs": [
    {
     "name": "stdout",
     "output_type": "stream",
     "text": [
      "24\n",
      "24\n",
      "24\n",
      "37\n",
      "12\n",
      "john\n"
     ]
    }
   ],
   "source": [
    "a = b = c = 24\n",
    "d,e,f = 37,12,\"john\"\n",
    "print(a)\n",
    "print(b)\n",
    "print(c)\n",
    "print(d)\n",
    "print(e)\n",
    "print(f)"
   ]
  },
  {
   "cell_type": "code",
   "execution_count": 2,
   "metadata": {},
   "outputs": [
    {
     "data": {
      "text/plain": [
       "24"
      ]
     },
     "execution_count": 2,
     "metadata": {},
     "output_type": "execute_result"
    }
   ],
   "source": [
    "a"
   ]
  },
  {
   "cell_type": "markdown",
   "metadata": {},
   "source": [
    "<p style=\"color:#8A0808; font-style: italic;\">You can also delete the reference to a number object by using the del statement. The syntax of the del statement is</p>"
   ]
  },
  {
   "cell_type": "code",
   "execution_count": 4,
   "metadata": {},
   "outputs": [
    {
     "ename": "NameError",
     "evalue": "name 'a' is not defined",
     "output_type": "error",
     "traceback": [
      "\u001b[0;31m---------------------------------------------------------------------------\u001b[0m",
      "\u001b[0;31mNameError\u001b[0m                                 Traceback (most recent call last)",
      "\u001b[0;32m<ipython-input-4-3ff829915c83>\u001b[0m in \u001b[0;36m<module>\u001b[0;34m()\u001b[0m\n\u001b[0;32m----> 1\u001b[0;31m \u001b[0;32mdel\u001b[0m\u001b[0;34m(\u001b[0m\u001b[0ma\u001b[0m\u001b[0;34m)\u001b[0m\u001b[0;34m\u001b[0m\u001b[0m\n\u001b[0m\u001b[1;32m      2\u001b[0m \u001b[0ma\u001b[0m\u001b[0;34m\u001b[0m\u001b[0m\n",
      "\u001b[0;31mNameError\u001b[0m: name 'a' is not defined"
     ]
    }
   ],
   "source": [
    "del(a)\n",
    "a"
   ]
  },
  {
   "cell_type": "markdown",
   "metadata": {},
   "source": [
    "<h2 style=\"color:#045FB4\"><strong>Standard Data Types</strong></h2>"
   ]
  },
  {
   "cell_type": "markdown",
   "metadata": {},
   "source": [
    "<div class=\"alert alert-info\">\n",
    "Python has various standard data types that are used to define the operations possible on them and the storage method for each of them\n",
    "</div>\n",
    "\n",
    "<h4>Python has five standard data types</h4>\n",
    "<ol>\n",
    "<li>Numbers</li>\n",
    "<li>String</li>\n",
    "<li>List</li>\n",
    "<li>Tuple</li>\n",
    "<li>Dictionary</li>\n",
    "</ol>"
   ]
  },
  {
   "cell_type": "markdown",
   "metadata": {},
   "source": [
    "<h2 style=\"color:#045FB4\"><strong>Python Numbers</strong></h2>"
   ]
  },
  {
   "cell_type": "markdown",
   "metadata": {},
   "source": [
    "<div class=\"alert alert-info\">\n",
    "Number data types store numeric values. They are **immutable data types**. This means, changing the value of a number data type results in a newly allocated object.</div>"
   ]
  },
  {
   "cell_type": "code",
   "execution_count": 11,
   "metadata": {},
   "outputs": [
    {
     "data": {
      "text/plain": [
       "(1, 10)"
      ]
     },
     "execution_count": 11,
     "metadata": {},
     "output_type": "execute_result"
    }
   ],
   "source": [
    "var1 = 1\n",
    "var2 = 10\n",
    "var1, var2"
   ]
  },
  {
   "cell_type": "markdown",
   "metadata": {},
   "source": [
    "<h4 style=\"color:#8A0808\">Python supports three different numerical types</h4>\n",
    "<ol>\n",
    "<li><strong>int</strong> (signed integers)</li>\n",
    "<li><strong>float</strong> (floating point real values)</li>\n",
    "<li><strong>complex</strong> (complex numbers)</li>\n",
    "</ol>"
   ]
  },
  {
   "cell_type": "code",
   "execution_count": 13,
   "metadata": {},
   "outputs": [
    {
     "name": "stdout",
     "output_type": "stream",
     "text": [
      "value int: 10\n",
      "value float: 2556.0\n",
      "value complex: 14.2j\n"
     ]
    }
   ],
   "source": [
    "val_int = 10\n",
    "val_float = 25.56e2\n",
    "val_complex = 14.2j\n",
    "\n",
    "print(\"value int:\", val_int)\n",
    "print(\"value float:\", val_float)\n",
    "print(\"value complex:\", val_complex)"
   ]
  },
  {
   "cell_type": "markdown",
   "metadata": {},
   "source": [
    "<h4 style=\"color:#8A0808\">Number Type Conversion</h4>\n",
    "<ul>\n",
    "<li>Type <strong>int(x)</strong> to convert x to a plain integer.</li>\n",
    "<li>Type <strong>float(x)</strong> to convert x to a floating-point number.</li>\n",
    "</ul>"
   ]
  },
  {
   "cell_type": "code",
   "execution_count": 14,
   "metadata": {},
   "outputs": [
    {
     "name": "stdout",
     "output_type": "stream",
     "text": [
      "value float2int: 5\n",
      "value int2float: 5.0\n"
     ]
    }
   ],
   "source": [
    "a = 5\n",
    "b = 5.5\n",
    "\n",
    "float2int = int(b)\n",
    "int2float = float(a)\n",
    "\n",
    "print(\"value float2int:\", float2int)\n",
    "print(\"value int2float:\", int2float)"
   ]
  },
  {
   "cell_type": "markdown",
   "metadata": {},
   "source": [
    "<h2 style=\"color:#045FB4\"><strong>Python Strings</strong></h2>"
   ]
  },
  {
   "cell_type": "markdown",
   "metadata": {},
   "source": [
    "<div class=\"alert alert-info\">The plus (`+`) sign is the **string concatenation operator** and the asterisk (`*`) is the **repetition operator**.\n",
    "<br>\n",
    "<br>\n",
    "**Subsets of strings** can be taken using the slice operator (`[ ]` and `[:]` ) with indexes starting at `0` in the beginning of the string and working their way from -1 at the end.\n",
    "</div>"
   ]
  },
  {
   "cell_type": "code",
   "execution_count": 5,
   "metadata": {},
   "outputs": [
    {
     "name": "stdout",
     "output_type": "stream",
     "text": [
      "Hello World!\n",
      "H\n",
      "llo\n",
      "llo World!\n",
      "Hello World!Hello World!Hello World!Hello World!\n",
      "Hello World!EXTRA\n"
     ]
    }
   ],
   "source": [
    "str = 'Hello World!'\n",
    "\n",
    "print(str)          # Prints complete string\n",
    "print(str[0])       # Prints first character of the string\n",
    "print(str[2:5])     # Prints characters starting from 3rd to 5th\n",
    "print(str[2:])      # Prints string starting from 3rd character\n",
    "print(str * 4)      # Prints string two times\n",
    "print(str + \"EXTRA\") # Prints concatenated string"
   ]
  },
  {
   "cell_type": "markdown",
   "metadata": {},
   "source": [
    "<h2 style=\"color:#045FB4\">Python Lists</h2>"
   ]
  },
  {
   "cell_type": "markdown",
   "metadata": {},
   "source": [
    "<div class=\"alert alert-info\">\n",
    "Lists are the most versatile of Python's compound data types. A list contains items separated by commas and enclosed within square brackets (`[]`). <br><br>\n",
    "The values stored in a list can be accessed using the slice operator (`[ ]` and `[:]`) with indexes starting at 0 in the beginning of the list and working their way to end -1. The plus (`+`) sign is the list concatenation operator, and the asterisk (`*`) is the repetition operator.\n",
    "</div>"
   ]
  },
  {
   "cell_type": "code",
   "execution_count": 24,
   "metadata": {},
   "outputs": [
    {
     "name": "stdout",
     "output_type": "stream",
     "text": [
      "['wxyz', -258, 6.98, 'mary', 3j]\n",
      "wxyz\n",
      "[-258, 6.98]\n",
      "[6.98, 'mary', 3j]\n",
      "[951, 'mary', 951, 'mary']\n",
      "['wxyz', -258, 6.98, 'mary', 3j, 951, 'mary']\n"
     ]
    }
   ],
   "source": [
    "list = [ 'wxyz', -258 , 6.98, 'mary', 3j ]\n",
    "littlelist = [951, 'mary']\n",
    "\n",
    "print(list)          # Prints complete list\n",
    "print(list[0])       # Prints first element of the list\n",
    "print(list[1:3])     # Prints elements starting from 2nd till 3rd \n",
    "print(list[2:])      # Prints elements starting from 3rd element\n",
    "print(littlelist * 2)  # Prints list two times\n",
    "print(list + littlelist) # Prints concatenated lists"
   ]
  },
  {
   "cell_type": "markdown",
   "metadata": {},
   "source": [
    "<h2 style=\"color:#045FB4\">Python Tuples</h2>"
   ]
  },
  {
   "cell_type": "markdown",
   "metadata": {},
   "source": [
    "<div class=\"alert alert-info\">\n",
    "**A tuple** is another sequence data type that is similar to the list. A tuple consists of a number of values separated by commas. Unlike lists, however, tuples are enclosed within parentheses.\n",
    "<br><br>\n",
    "The main differences between lists and tuples are: Lists are enclosed in brackets ( `[ ]` ) and their elements and size can be changed, while tuples are enclosed in parentheses ( `( )` ) and cannot be updated. **Tuples can be thought of as read-only lists**.\n",
    "</div>"
   ]
  },
  {
   "cell_type": "code",
   "execution_count": 27,
   "metadata": {},
   "outputs": [
    {
     "name": "stdout",
     "output_type": "stream",
     "text": [
      "('abcd', 786, 2.23, 'john', 70.2)\n",
      "abcd\n",
      "(786, 2.23)\n",
      "(2.23, 'john', 70.2)\n",
      "(123, 'john', 123, 'john')\n",
      "('abcd', 786, 2.23, 'john', 70.2, 123, 'john')\n"
     ]
    }
   ],
   "source": [
    "## Propiedad de Resilencia\n",
    "\n",
    "tuple = ( 'abcd', 786 , 2.23, 'john', 70.2  )\n",
    "littletuple = (123, 'john')\n",
    "\n",
    "print(tuple)           # Prints complete tuple\n",
    "print(tuple[0])        # Prints first element of the tuple\n",
    "print(tuple[1:3])      # Prints elements starting from 2nd till 3rd \n",
    "print(tuple[2:])       # Prints elements starting from 3rd element\n",
    "print(littletuple * 2)   # Prints tuple two times\n",
    "print(tuple + littletuple) # Prints concatenated tuples"
   ]
  },
  {
   "cell_type": "markdown",
   "metadata": {},
   "source": [
    "<h2 style=\"color:#045FB4\">Python Dictionary</h2>"
   ]
  },
  {
   "cell_type": "markdown",
   "metadata": {},
   "source": [
    "<div class=\"alert alert-info\">\n",
    "**Dictionary** is an unordered set of key: value pairs, with the requirement that the keys are unique (within one dictionary). A pair of braces creates an empty dictionary: `{}`.\n",
    "</div>"
   ]
  },
  {
   "cell_type": "code",
   "execution_count": 29,
   "metadata": {},
   "outputs": [
    {
     "name": "stdout",
     "output_type": "stream",
     "text": [
      "Element in one\n",
      "56\n",
      "{'name': 'peter', 'dept': 'devp', 'id': 7895}\n",
      "dict_keys(['name', 'dept', 'id'])\n",
      "dict_values(['peter', 'devp', 7895])\n"
     ]
    }
   ],
   "source": [
    "dict = {}\n",
    "dict['one'] = \"Element in one\"\n",
    "dict[2]     = 56\n",
    "\n",
    "tinydict = {'name': 'peter','id':7895, 'dept': 'devp'}\n",
    "\n",
    "\n",
    "print (dict['one'])       # Prints value for 'one' key\n",
    "print (dict[2])           # Prints value for 2 key\n",
    "print (tinydict)          # Prints complete dictionary\n",
    "print (tinydict.keys())   # Prints all the keys\n",
    "print (tinydict.values()) # Prints all the values"
   ]
  },
  {
   "cell_type": "markdown",
   "metadata": {},
   "source": [
    "<p>Dictionaries have no concept of order among the elements. It is incorrect to say that the elements are \"out of order\"; they are simply unordered.</p>"
   ]
  }
 ],
 "metadata": {
  "kernelspec": {
   "display_name": "Python 3",
   "language": "python",
   "name": "python3"
  },
  "language_info": {
   "codemirror_mode": {
    "name": "ipython",
    "version": 3
   },
   "file_extension": ".py",
   "mimetype": "text/x-python",
   "name": "python",
   "nbconvert_exporter": "python",
   "pygments_lexer": "ipython3",
   "version": "3.6.1"
  }
 },
 "nbformat": 4,
 "nbformat_minor": 2
}
