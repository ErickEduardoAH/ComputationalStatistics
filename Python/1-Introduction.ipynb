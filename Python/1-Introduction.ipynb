{
 "cells": [
  {
   "cell_type": "markdown",
   "metadata": {},
   "source": [
    "<img src=\"./images/python.png\">"
   ]
  },
  {
   "cell_type": "markdown",
   "metadata": {},
   "source": [
    "<h1>Hitchhiker's Guide to Data Science: Python</h1>"
   ]
  },
  {
   "cell_type": "markdown",
   "metadata": {},
   "source": [
    "<div style=\"background-color:#F2F2F2; width:50%\">\n",
    "<h2>Table of contents</h2>\n",
    "<ol style=\"font-family: 'Raleway', Arial, sans-serif; font-weight: 400; font-size: 15px;\">\n",
    "    <li> <strong> Introduction </strong> </li>\n",
    "    <li> <strong> Why Python </strong> </li>\n",
    "    <li> <strong> Python Syntax </strong> </li>\n",
    "    <li> <strong> Variables Assignment </strong> </li>\n",
    "    <li> <strong> Standard Data Types </strong> </li>\n",
    "    <li> <strong> Python Numbers </strong> </li>\n",
    "        <ul style=\"list-style-type: circle; margin-top:0\">\n",
    "            <li> Numerical Types </li>\n",
    "            <li> Number Type Conversion </li>\n",
    "        </ul>\n",
    "    <li> <strong> Python Strings </strong> </li>\n",
    "    <li> <strong> Python Lists </strong> </li>\n",
    "    <li> <strong> Python Tuples </strong> </li>\n",
    "    <li> <strong> Python Dictionary </strong> </li>\n",
    "    <li> <strong> Types of Operator </strong> </li>\n",
    "        <ul style=\"list-style-type: circle; margin-top:0\">\n",
    "            <li> Arithmetic Operators </li>\n",
    "            <li> Comparison Operators </li>\n",
    "            <li> Assignment Operators </li>\n",
    "            <li> Logical Operators </li>\n",
    "            <li> Membership Operators </li>\n",
    "            <li> Python Operators Precedence </li>\n",
    "        </ul>\n",
    "    <li> <strong> Decision Making </strong> </li>\n",
    "        <ul style=\"list-style-type: circle; margin-top:0\">\n",
    "            <li> IF statement </li>\n",
    "            <li> IF...ELIF...ELSE statement </li>\n",
    "            <li> Nested IF statement </li>\n",
    "            <li> Single statement suites </li>\n",
    "        </ul>\n",
    "    <li> <strong> Loops </strong> </li>\n",
    "        <ul style=\"list-style-type: circle; margin-top:0\">\n",
    "            <li> While Loop </li>\n",
    "            <li> For Loop </li>\n",
    "            <li> Nested Loops </li>\n",
    "            <li> Loop control statements </li>\n",
    "                <ul>\n",
    "                    <li>Break statement</li>\n",
    "                    <li>Continue statement</li>\n",
    "                </ul>\n",
    "            <li> Iterator and Generator statements </li>\n",
    "                <ul>\n",
    "                    <li>Iterator</li>\n",
    "                    <li>Generator</li>\n",
    "                </ul>\n",
    "        </ul>\n",
    "    <li> <strong> Functions </strong> </li>\n",
    "        <ul style=\"list-style-type: circle; margin-top:0\">\n",
    "            <li> Defining functions </li>\n",
    "            <li> Calling functions </li>\n",
    "            <li> Pass by Reference vs Value </li>\n",
    "            <li> Return statements </li>\n",
    "        </ul>\n",
    "    <li> <strong> Examples </strong> </li>\n",
    "    <li> <strong> Workshop </strong> </li>\n",
    "</ol>\n",
    "</div>"
   ]
  },
  {
   "cell_type": "markdown",
   "metadata": {},
   "source": [
    "<blockquote><h3>Move fast and break things. Unless you are breaking stuff, you are not moving fast enough.</h3>\n",
    "  <ul><li>Mark Zuckerberg</li></ul>\n",
    "</blockquote>"
   ]
  },
  {
   "cell_type": "markdown",
   "metadata": {},
   "source": [
    "<h2 style=\"color:#045FB4\">Introduction</h2>\n",
    "<h3>What is Python?</h3>\n",
    "<ul>\n",
    "    <li>Interpreted, object-oriented, high-level programming language with dynamic semantics</li>\n",
    "    <li>Created by Guido van Rossum and first released in 1991</li>\n",
    "    <li>Used in science and engineering</li>\n",
    "</ul>"
   ]
  },
  {
   "cell_type": "markdown",
   "metadata": {},
   "source": [
    "<h2 style=\"color:#045FB4\"> Why Python </h2>"
   ]
  },
  {
   "cell_type": "markdown",
   "metadata": {},
   "source": [
    "<ul>\n",
    "<li><strong>Easy to learn</strong> − Python has relatively few keywords, simple structure, and a clearly defined syntax.</li>\n",
    "\n",
    "<li><strong>Easy to read</strong> − Python code is just like simple English language and much more clearly defined and visible to the eyes.</li>\n",
    "\n",
    "<li><strong>Easy to maintain</strong> − Python's source code is fairly easy-to-maintain.</li>\n",
    "\n",
    "<li><strong>A broad standard library</strong> − Python's bulk of the library is very portable and cross-platform compatible on UNIX, Windows, and Mac.</li>\n",
    "\n",
    "<li><strong>Interactive Mode</strong> − Python has support for an interactive mode which allows interactive testing and debugging of snippets of code.</li>\n",
    "\n",
    "<li><strong>Portable</strong> − Python can run on a wide variety of hardware platforms and has the same interface on all platforms.</li>\n",
    "</ul>"
   ]
  },
  {
   "cell_type": "markdown",
   "metadata": {},
   "source": [
    "<h2 style=\"color:#045FB4\">Python Syntax</h2>\n",
    "<p style=\"color:#8A0808; font-style: italic;\">The integer division in Python 3 returns a real number, unlike in Python 2.</p>"
   ]
  },
  {
   "cell_type": "code",
   "execution_count": 5,
   "metadata": {},
   "outputs": [
    {
     "data": {
      "text/plain": [
       "3.5"
      ]
     },
     "execution_count": 5,
     "metadata": {},
     "output_type": "execute_result"
    }
   ],
   "source": [
    "7 / 2"
   ]
  },
  {
   "cell_type": "markdown",
   "metadata": {},
   "source": [
    "<p style=\"color:#8A0808; font-style: italic;\">You can force the division to return an integer, <strong>with the operator //</strong> </p>"
   ]
  },
  {
   "cell_type": "code",
   "execution_count": 6,
   "metadata": {},
   "outputs": [
    {
     "data": {
      "text/plain": [
       "3"
      ]
     },
     "execution_count": 6,
     "metadata": {},
     "output_type": "execute_result"
    }
   ],
   "source": [
    "7 // 2"
   ]
  },
  {
   "cell_type": "markdown",
   "metadata": {},
   "source": [
    "<div class=\"alert alert-warning\"><strong>Division by zero</strong></div>"
   ]
  },
  {
   "cell_type": "code",
   "execution_count": 7,
   "metadata": {},
   "outputs": [
    {
     "ename": "ZeroDivisionError",
     "evalue": "division by zero",
     "output_type": "error",
     "traceback": [
      "\u001b[0;31m---------------------------------------------------------------------------\u001b[0m",
      "\u001b[0;31mZeroDivisionError\u001b[0m                         Traceback (most recent call last)",
      "\u001b[0;32m<ipython-input-7-b710d87c980c>\u001b[0m in \u001b[0;36m<module>\u001b[0;34m()\u001b[0m\n\u001b[0;32m----> 1\u001b[0;31m \u001b[0;36m1\u001b[0m \u001b[0;34m/\u001b[0m \u001b[0;36m0\u001b[0m\u001b[0;34m\u001b[0m\u001b[0m\n\u001b[0m",
      "\u001b[0;31mZeroDivisionError\u001b[0m: division by zero"
     ]
    }
   ],
   "source": [
    "1 / 0"
   ]
  },
  {
   "cell_type": "code",
   "execution_count": 8,
   "metadata": {},
   "outputs": [
    {
     "ename": "ZeroDivisionError",
     "evalue": "float division by zero",
     "output_type": "error",
     "traceback": [
      "\u001b[0;31m---------------------------------------------------------------------------\u001b[0m",
      "\u001b[0;31mZeroDivisionError\u001b[0m                         Traceback (most recent call last)",
      "\u001b[0;32m<ipython-input-8-42176c28e89e>\u001b[0m in \u001b[0;36m<module>\u001b[0;34m()\u001b[0m\n\u001b[0;32m----> 1\u001b[0;31m \u001b[0;36m1.0\u001b[0m \u001b[0;34m/\u001b[0m \u001b[0;36m0.0\u001b[0m\u001b[0;34m\u001b[0m\u001b[0m\n\u001b[0m",
      "\u001b[0;31mZeroDivisionError\u001b[0m: float division by zero"
     ]
    }
   ],
   "source": [
    "1.0 / 0.0"
   ]
  },
  {
   "cell_type": "markdown",
   "metadata": {},
   "source": [
    "<div class=\"alert alert-info\">We will learn to deal with these errors later. If you use NumPy this operation will return `NaN`.</div>"
   ]
  },
  {
   "cell_type": "markdown",
   "metadata": {},
   "source": [
    "<p style=\"color:#8A0808; font-style: italic;\">You can raise one number to another,<strong> with the operator **:</strong></p>"
   ]
  },
  {
   "cell_type": "code",
   "execution_count": 10,
   "metadata": {},
   "outputs": [
    {
     "data": {
      "text/plain": [
       "6"
      ]
     },
     "execution_count": 10,
     "metadata": {},
     "output_type": "execute_result"
    }
   ],
   "source": [
    "3 * 2"
   ]
  },
  {
   "cell_type": "code",
   "execution_count": 9,
   "metadata": {},
   "outputs": [
    {
     "data": {
      "text/plain": [
       "9"
      ]
     },
     "execution_count": 9,
     "metadata": {},
     "output_type": "execute_result"
    }
   ],
   "source": [
    "3 ** 2"
   ]
  },
  {
   "cell_type": "markdown",
   "metadata": {},
   "source": [
    "<p style=\"color:#8A0808; font-style: italic;\">Another type that we find useful are complex numbers.</p>"
   ]
  },
  {
   "cell_type": "code",
   "execution_count": 11,
   "metadata": {},
   "outputs": [
    {
     "data": {
      "text/plain": [
       "(1+1.5j)"
      ]
     },
     "execution_count": 11,
     "metadata": {},
     "output_type": "execute_result"
    }
   ],
   "source": [
    "(2 + 3j) / 2"
   ]
  },
  {
   "cell_type": "code",
   "execution_count": 13,
   "metadata": {},
   "outputs": [
    {
     "data": {
      "text/plain": [
       "complex"
      ]
     },
     "execution_count": 13,
     "metadata": {},
     "output_type": "execute_result"
    }
   ],
   "source": [
    "type(5.5j)"
   ]
  },
  {
   "cell_type": "markdown",
   "metadata": {},
   "source": [
    "<p style=\"color:#8A0808; font-style: italic;\">Absolute value</p>"
   ]
  },
  {
   "cell_type": "code",
   "execution_count": 14,
   "metadata": {},
   "outputs": [
    {
     "data": {
      "text/plain": [
       "3.605551275463989"
      ]
     },
     "execution_count": 14,
     "metadata": {},
     "output_type": "execute_result"
    }
   ],
   "source": [
    "abs(2 + 3j)"
   ]
  },
  {
   "cell_type": "code",
   "execution_count": 15,
   "metadata": {},
   "outputs": [
    {
     "data": {
      "text/plain": [
       "200"
      ]
     },
     "execution_count": 15,
     "metadata": {},
     "output_type": "execute_result"
    }
   ],
   "source": [
    "abs(-200)"
   ]
  },
  {
   "cell_type": "markdown",
   "metadata": {},
   "source": [
    "<div class=\"alert alert-info\"><strong>IPython Tip</strong>: \n",
    "We can rescue the past results using `_<n>`. For example, to get the result corresponding to `Out[7]`, we use `_7`. This variable save this value all sesion.</div>"
   ]
  },
  {
   "cell_type": "code",
   "execution_count": 17,
   "metadata": {},
   "outputs": [
    {
     "data": {
      "text/plain": [
       "1.8027756377319946"
      ]
     },
     "execution_count": 17,
     "metadata": {},
     "output_type": "execute_result"
    }
   ],
   "source": [
    "abs(_11)"
   ]
  },
  {
   "cell_type": "markdown",
   "metadata": {},
   "source": [
    "<p style=\"color:#8A0808; font-style: italic;\">We can <strong>convert variables</strong> to int, float, str ...</p>"
   ]
  },
  {
   "cell_type": "code",
   "execution_count": 18,
   "metadata": {},
   "outputs": [
    {
     "data": {
      "text/plain": [
       "20"
      ]
     },
     "execution_count": 18,
     "metadata": {},
     "output_type": "execute_result"
    }
   ],
   "source": [
    "int(20.3)"
   ]
  },
  {
   "cell_type": "code",
   "execution_count": 19,
   "metadata": {},
   "outputs": [
    {
     "data": {
      "text/plain": [
       "19"
      ]
     },
     "execution_count": 19,
     "metadata": {},
     "output_type": "execute_result"
    }
   ],
   "source": [
    "round(18.51)"
   ]
  },
  {
   "cell_type": "code",
   "execution_count": 20,
   "metadata": {},
   "outputs": [
    {
     "data": {
      "text/plain": [
       "5.0"
      ]
     },
     "execution_count": 20,
     "metadata": {},
     "output_type": "execute_result"
    }
   ],
   "source": [
    "float(5)"
   ]
  },
  {
   "cell_type": "code",
   "execution_count": 21,
   "metadata": {},
   "outputs": [
    {
     "data": {
      "text/plain": [
       "(2+0j)"
      ]
     },
     "execution_count": 21,
     "metadata": {},
     "output_type": "execute_result"
    }
   ],
   "source": [
    "complex(2)"
   ]
  },
  {
   "cell_type": "code",
   "execution_count": 22,
   "metadata": {},
   "outputs": [
    {
     "data": {
      "text/plain": [
       "'55787'"
      ]
     },
     "execution_count": 22,
     "metadata": {},
     "output_type": "execute_result"
    }
   ],
   "source": [
    "str(55787)"
   ]
  },
  {
   "cell_type": "markdown",
   "metadata": {},
   "source": [
    "<p style=\"color:#8A0808; font-style: italic;\">We can <strong>check the type of variable</strong> ...</p>"
   ]
  },
  {
   "cell_type": "code",
   "execution_count": 25,
   "metadata": {},
   "outputs": [
    {
     "data": {
      "text/plain": [
       "float"
      ]
     },
     "execution_count": 25,
     "metadata": {},
     "output_type": "execute_result"
    }
   ],
   "source": [
    "type(6.4)"
   ]
  },
  {
   "cell_type": "code",
   "execution_count": 27,
   "metadata": {},
   "outputs": [
    {
     "data": {
      "text/plain": [
       "True"
      ]
     },
     "execution_count": 27,
     "metadata": {},
     "output_type": "execute_result"
    }
   ],
   "source": [
    "isinstance(2.0, float)"
   ]
  },
  {
   "cell_type": "markdown",
   "metadata": {},
   "source": [
    "<p style=\"color:#8A0808; font-style: italic;\">Another useful functions ...</p>"
   ]
  },
  {
   "cell_type": "code",
   "execution_count": null,
   "metadata": {
    "collapsed": true
   },
   "outputs": [],
   "source": [
    "max(1, 5, 20, 22)"
   ]
  },
  {
   "cell_type": "code",
   "execution_count": null,
   "metadata": {
    "collapsed": true
   },
   "outputs": [],
   "source": [
    "min(-2, 2, 3)"
   ]
  },
  {
   "cell_type": "code",
   "execution_count": null,
   "metadata": {
    "collapsed": true
   },
   "outputs": [],
   "source": [
    "print(\"Hello World!\")"
   ]
  },
  {
   "cell_type": "code",
   "execution_count": 6,
   "metadata": {
    "collapsed": true
   },
   "outputs": [],
   "source": [
    "import numpy \n"
   ]
  },
  {
   "cell_type": "code",
   "execution_count": 5,
   "metadata": {},
   "outputs": [
    {
     "data": {
      "text/plain": [
       "3.141592653589793"
      ]
     },
     "execution_count": 5,
     "metadata": {},
     "output_type": "execute_result"
    }
   ],
   "source": [
    "from numpy import *\n",
    "\n",
    "pi"
   ]
  },
  {
   "cell_type": "markdown",
   "metadata": {},
   "source": [
    "<div class=\"alert alert-warning\">The <strong>función <code>print</code></strong> is used to show the results on-screen.</div>"
   ]
  }
 ],
 "metadata": {
  "kernelspec": {
   "display_name": "Python 3",
   "language": "python",
   "name": "python3"
  },
  "language_info": {
   "codemirror_mode": {
    "name": "ipython",
    "version": 3
   },
   "file_extension": ".py",
   "mimetype": "text/x-python",
   "name": "python",
   "nbconvert_exporter": "python",
   "pygments_lexer": "ipython3",
   "version": "3.6.1"
  }
 },
 "nbformat": 4,
 "nbformat_minor": 2
}
