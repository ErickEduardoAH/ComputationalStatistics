{
 "cells": [
  {
   "cell_type": "markdown",
   "metadata": {},
   "source": [
    "<img src=\"./images/python.png\">"
   ]
  },
  {
   "cell_type": "markdown",
   "metadata": {},
   "source": [
    "<h1>Hitchhiker's Guide to Data Science: Python</h1>"
   ]
  },
  {
   "cell_type": "markdown",
   "metadata": {},
   "source": [
    "<div style=\"background-color:#F2F2F2; width:50%\">\n",
    "<h2>Table of contents</h2>\n",
    "<ol style=\"font-family: 'Raleway', Arial, sans-serif; font-weight: 400; font-size: 15px;\" start=\"14\">\n",
    "    <li> <strong> Functions </strong> </li>\n",
    "        <ul style=\"list-style-type: circle; margin-top:0\">\n",
    "            <li> Defining functions </li>\n",
    "            <li> Calling functions </li>\n",
    "            <li> Pass by Reference vs Value </li>\n",
    "            <li> Return statements </li>\n",
    "        </ul>\n",
    "</ol>\n",
    "</div>"
   ]
  },
  {
   "cell_type": "markdown",
   "metadata": {},
   "source": [
    "<h2 style=\"color:#045FB4\">Functions</h2>"
   ]
  },
  {
   "cell_type": "markdown",
   "metadata": {},
   "source": [
    "<div class=\"alert alert-info\">\n",
    "**Function is a block of organized**, reusable code that is used to perform a single, related action. Functions provide better modularity for applications and a high degree of code reusing.\n",
    "</div>"
   ]
  },
  {
   "cell_type": "markdown",
   "metadata": {},
   "source": [
    "<h3 style=\"color:#8A0808\">Defining a Function</h3>\n",
    "<p>You can define functions to provide the required functionality. Here are simple rules to define a function in Python.</p>\n",
    "<ul>\n",
    "<li>Function blocks begin with the keyword def followed by the function name and parentheses ( ( ) ).</li>\n",
    "\n",
    "<li>Any input parameters or arguments should be placed within these parentheses. You can also define parameters inside these parentheses.</li>\n",
    "\n",
    "<li>The first statement of a function can be an optional statement - the documentation string of the function or docstring.</li>\n",
    "\n",
    "<li>The code block within every function starts with a colon (:) and is indented.</li>\n",
    "\n",
    "<li>The statement return [expression] exits a function, optionally passing back an expression to the caller. A return statement with no arguments is the same as return None.</li>\n",
    "</ul>\n",
    "<h4>Syntax</h4>\n",
    "<pre>\n",
    "def functionname( parameters ):\n",
    "   \"function_docstring\"\n",
    "   function_suite\n",
    "   return [expression]\n",
    "</pre>\n",
    "\n",
    "<h4>Example</h4>"
   ]
  },
  {
   "cell_type": "code",
   "execution_count": 26,
   "metadata": {
    "collapsed": true
   },
   "outputs": [],
   "source": [
    "def printme( str ):\n",
    "    print (str)\n",
    "    return"
   ]
  },
  {
   "cell_type": "markdown",
   "metadata": {},
   "source": [
    "<h3 style=\"color:#8A0808\">Calling a Function</h3>"
   ]
  },
  {
   "cell_type": "code",
   "execution_count": 1,
   "metadata": {},
   "outputs": [
    {
     "name": "stdout",
     "output_type": "stream",
     "text": [
      "Call to defined function!\n",
      "Call again to the function\n"
     ]
    }
   ],
   "source": [
    "# Function definition is here\n",
    "def printme( str ):\n",
    "    print (str)\n",
    "    return\n",
    "\n",
    "# Calling printme function\n",
    "printme(\"Call to defined function!\")\n",
    "printme(\"Call again to the function\")"
   ]
  },
  {
   "cell_type": "markdown",
   "metadata": {},
   "source": [
    "<h3 style=\"color:#8A0808\">Pass by Reference vs Value</h3>"
   ]
  },
  {
   "cell_type": "markdown",
   "metadata": {},
   "source": [
    "<div class=\"alert alert-info\">\n",
    "All parameters (arguments) in the Python language are passed by reference. It means if you change what a parameter refers to within a function, the change also reflects back in the calling function.\n",
    "</div>\n",
    "\n",
    "<h4>Example</h4>"
   ]
  },
  {
   "cell_type": "code",
   "execution_count": 2,
   "metadata": {},
   "outputs": [
    {
     "name": "stdout",
     "output_type": "stream",
     "text": [
      "Values inside the function before change:  [10, 20, 30]\n",
      "Values inside the function after change:  [10, 20, 50]\n",
      "Values outside the function:  [10, 20, 50]\n"
     ]
    }
   ],
   "source": [
    "def changeme( mylist ):\n",
    "    print (\"Values inside the function before change: \", mylist)\n",
    "    mylist[2]=50\n",
    "    print (\"Values inside the function after change: \", mylist)\n",
    "    return\n",
    "\n",
    "# Calling changeme() function\n",
    "mylist = [10,20,30]\n",
    "changeme( mylist )\n",
    "print (\"Values outside the function: \", mylist)"
   ]
  },
  {
   "cell_type": "markdown",
   "metadata": {},
   "source": [
    "<p>There is one more example where argument is being passed by reference and the reference is being overwritten inside the called function</p>"
   ]
  },
  {
   "cell_type": "code",
   "execution_count": 17,
   "metadata": {},
   "outputs": [
    {
     "name": "stdout",
     "output_type": "stream",
     "text": [
      "Values inside the function:  [1, 2, 3, 4]\n",
      "Values outside the function:  [10, 20, 30]\n"
     ]
    }
   ],
   "source": [
    "# Function definition is here\n",
    "def changeme( mylist ):\n",
    "    mylist = [1,2,3,4] # This would as a new reference in mylist\n",
    "    print (\"Values inside the function: \", mylist)\n",
    "    return\n",
    "\n",
    "# Calling changeme() function\n",
    "mylist = [10,20,30]\n",
    "changeme( mylist )\n",
    "print (\"Values outside the function: \", mylist)"
   ]
  },
  {
   "cell_type": "markdown",
   "metadata": {},
   "source": [
    "<h3 style=\"color:#8A0808\">The Anonymous Functions</h3>"
   ]
  },
  {
   "cell_type": "markdown",
   "metadata": {},
   "source": [
    "<div class=\"alert alert-info\">\n",
    "These functions are called **anonymous** because they are not declared in the standard manner by using the def keyword. You can use the **lambda** keyword to create small anonymous functions.\n",
    "</div>\n",
    "\n",
    "<ul>\n",
    "<li>Lambda forms can take any number of arguments but return just one value in the form of an expression. They cannot contain commands or multiple expressions.</li>\n",
    "\n",
    "<li>An anonymous function cannot be a direct call to print because lambda requires an expression.</li>\n",
    "\n",
    "<li>Lambda functions have their own local namespace and cannot access variables other than those in their parameter list and those in the global namespace.</li>\n",
    "\n",
    "<li>Although it appears that lambdas are a one-line version of a function, they are not equivalent to inline statements in C or C++, whose purpose is to stack allocation by passing function, during invocation for performance reasons.</li>\n",
    "</ul>\n",
    "\n",
    "<h4>Syntax</h4>\n",
    "<p>The syntax of <strong>lambda</strong> functions contains only a single statement</p>\n",
    "<pre>\n",
    "lambda [arg1 [,arg2,.....argn]]:expression\n",
    "</pre>\n",
    "\n",
    "<h4>Example</h4>"
   ]
  },
  {
   "cell_type": "code",
   "execution_count": 20,
   "metadata": {},
   "outputs": [
    {
     "name": "stdout",
     "output_type": "stream",
     "text": [
      "Value of total :  30\n",
      "Value of total :  40\n"
     ]
    }
   ],
   "source": [
    "# Function definition is here\n",
    "sum = lambda arg1, arg2: arg1 + arg2\n",
    "\n",
    "# Now you can call sum as a function\n",
    "print (\"Value of total : \", sum( 10, 20 ))\n",
    "print (\"Value of total : \", sum( 20, 20 ))"
   ]
  },
  {
   "cell_type": "markdown",
   "metadata": {},
   "source": [
    "<h3 style=\"color:#8A0808\">Return Statement</h3>"
   ]
  },
  {
   "cell_type": "markdown",
   "metadata": {},
   "source": [
    "<div class=\"alert alert-info\">\n",
    "The statement **return** [expression] exits a function, optionally passing back an expression to the caller.\n",
    "</div>\n",
    "<div class=\"alert alert-warning\">\n",
    "A **return** statement with no arguments is the same as return **None**.\n",
    "</div>\n",
    "<h4>Example</h4>"
   ]
  },
  {
   "cell_type": "code",
   "execution_count": 24,
   "metadata": {},
   "outputs": [
    {
     "name": "stdout",
     "output_type": "stream",
     "text": [
      "Inside the function :  30\n",
      "Outside the function :  30\n"
     ]
    }
   ],
   "source": [
    "# Function definition is here\n",
    "def sum( arg1, arg2 ):\n",
    "    total = arg1 + arg2\n",
    "    print (\"Inside the function : \", total)\n",
    "    return total\n",
    "\n",
    "# Now you can call sum function\n",
    "total = sum( 10, 20 )\n",
    "print (\"Outside the function : \", total )"
   ]
  }
 ],
 "metadata": {
  "kernelspec": {
   "display_name": "Python 3",
   "language": "python",
   "name": "python3"
  },
  "language_info": {
   "codemirror_mode": {
    "name": "ipython",
    "version": 3
   },
   "file_extension": ".py",
   "mimetype": "text/x-python",
   "name": "python",
   "nbconvert_exporter": "python",
   "pygments_lexer": "ipython3",
   "version": "3.6.1"
  }
 },
 "nbformat": 4,
 "nbformat_minor": 2
}
