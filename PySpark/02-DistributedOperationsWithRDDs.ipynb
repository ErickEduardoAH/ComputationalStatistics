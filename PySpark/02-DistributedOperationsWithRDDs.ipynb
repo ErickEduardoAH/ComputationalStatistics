{
 "cells": [
  {
   "cell_type": "markdown",
   "metadata": {},
   "source": [
    "<img src='static/spark.png' width=\"30%\" height=\"30%\" />\n",
    "\n",
    "\n",
    "# Distributed operations with RDDs\n",
    "\n",
    "### Trnasformations and actions\n",
    "___\n",
    "In RDD's there are two basic classes of distributed unary operations, transformations and actions. The transformations are distributed operations whose result generates a new RDD from another, while the actions, is a type of operation that applies a function of aggregation in a systematic and recurrent way to all the RDD.\n",
    "\n",
    "\n",
    "The transformations are operations lazy evaluated, that is to say that Spark does not execute the transformations of immediate way, if not until one an action (evaluation) at the end of a sequence of transformations fires them, while that event happens internally Spark generates a series Of operations pointing to the cluster indicating that the driver has associated a sequence of calculation requests, leaving the state of the driver latent to be processed.\n",
    "\n",
    "**Example**"
   ]
  },
  {
   "cell_type": "code",
   "execution_count": 1,
   "metadata": {},
   "outputs": [
    {
     "data": {
      "text/html": [
       "\n",
       "        <div>\n",
       "            <p><b>SparkContext</b></p>\n",
       "\n",
       "            <p><a href=\"http://9caa397debb3:4040\">Spark UI</a></p>\n",
       "\n",
       "            <dl>\n",
       "              <dt>Version</dt>\n",
       "                <dd><code>v2.3.0</code></dd>\n",
       "              <dt>Master</dt>\n",
       "                <dd><code>local[*]</code></dd>\n",
       "              <dt>AppName</dt>\n",
       "                <dd><code>pyspark-shell</code></dd>\n",
       "            </dl>\n",
       "        </div>\n",
       "        "
      ],
      "text/plain": [
       "<SparkContext master=local[*] appName=pyspark-shell>"
      ]
     },
     "execution_count": 1,
     "metadata": {},
     "output_type": "execute_result"
    }
   ],
   "source": [
    "import pyspark\n",
    "sc = pyspark.SparkContext('local[*]')\n",
    "sc"
   ]
  },
  {
   "cell_type": "code",
   "execution_count": 2,
   "metadata": {},
   "outputs": [],
   "source": [
    "numbersStrRDD = sc.textFile('data/amounts.txt')"
   ]
  },
  {
   "cell_type": "code",
   "execution_count": 3,
   "metadata": {},
   "outputs": [
    {
     "data": {
      "text/plain": [
       "['594.38', '281.37', '144.85', '20.99', '797.40']"
      ]
     },
     "execution_count": 3,
     "metadata": {},
     "output_type": "execute_result"
    }
   ],
   "source": [
    "numbersStrRDD.take(5)"
   ]
  },
  {
   "cell_type": "markdown",
   "metadata": {},
   "source": [
    "### Map and Reduce\n",
    "---\n",
    "\n",
    "Maps is a type of **transformation** which create a new dataset from an existing one through a **map one to one**.\n",
    "\n",
    "#### Note: Lambda Operator\n",
    "\n",
    "In python and scala the operations map, reduce and filters are applied by lambda expresions througt the lambda operator. The lambda operator or lambda function is a way to create small anonymous functions. These functions are throw-away functions, i.e. they are just needed where they have been created. Lambda functions are mainly used in combination with the functions filter(), map() and reduce(). The lambda feature was added to Python due to the demand from Lisp programmers.\n",
    "\n",
    "The general syntax of a lambda function is quite simple:\n",
    "\n",
    "**lambda** argument_list: **expression**.\n",
    "\n",
    "More info abouth lambda operator: [http://www.python-course.eu/lambda.php]\n",
    "\n",
    "**Maps**\n",
    "\n",
    "A map its a one to one function $\\lambda(x)$ such that preserves the size of the rdd and preserve the partitions.\n",
    "\n",
    "** Example:** Map Example\n",
    "\n",
    "\n",
    "<img src='static/mapconcept.png' width=\"55%\" height=\"55%\"/>\n"
   ]
  },
  {
   "cell_type": "code",
   "execution_count": 4,
   "metadata": {},
   "outputs": [
    {
     "data": {
      "text/plain": [
       "[594.38, 281.37, 144.85, 20.99, 797.4]"
      ]
     },
     "execution_count": 4,
     "metadata": {},
     "output_type": "execute_result"
    }
   ],
   "source": [
    "# Casting the elements of the RDD into a distributes way\n",
    "floatsRDD = numbersStrRDD.map(lambda x: float(x))\n",
    "floatsRDD.take(5)"
   ]
  },
  {
   "cell_type": "code",
   "execution_count": 5,
   "metadata": {},
   "outputs": [
    {
     "data": {
      "text/plain": [
       "[595.38, 282.37, 145.85, 21.99, 798.4]"
      ]
     },
     "execution_count": 5,
     "metadata": {},
     "output_type": "execute_result"
    }
   ],
   "source": [
    "def f(x): return x+1\n",
    "floatsRDD.map(lambda x: f(x)).take(5)"
   ]
  },
  {
   "cell_type": "markdown",
   "metadata": {},
   "source": [
    "** Example: Filter example:**\n",
    "\n",
    "The next operations aply a change of type from string to float for each entry of the rdd"
   ]
  },
  {
   "cell_type": "code",
   "execution_count": 6,
   "metadata": {},
   "outputs": [
    {
     "data": {
      "text/plain": [
       "478"
      ]
     },
     "execution_count": 6,
     "metadata": {},
     "output_type": "execute_result"
    }
   ],
   "source": [
    "filterLimit = 50\n",
    "floatsRDD.filter(lambda x: x<=filterLimit).count()"
   ]
  },
  {
   "cell_type": "markdown",
   "metadata": {},
   "source": [
    "**Actions**, are operations which return a value to the driver program after running a computation on the dataset, **actions reduce all records** applying a *function to two or more entries*.\n",
    "\n",
    "Some **Actions** and **Transfomations**:\n",
    "\n",
    "<br>\n",
    "<div align=\"center\">\n",
    "     <img src=\"static/RddOperations.png\" width=\"40%\">\n",
    "</div>\n",
    "\n",
    "**Reductions**\n",
    "\n",
    "If $x,y$ are elements of the same type then a reduction $\\lambda(x,y)$ its a function that must satisfy:\n",
    "\n",
    "* Closed: $\\lambda$ must return another object of the same class $type(\\lambda(x,y))=type(x)=type(y)$\n",
    "* Asociative: $\\lambda(\\lambda(x,y),z)=\\lambda(x,\\lambda(y,z))$\n",
    "* Conmutative: $\\lambda(x,y)=\\lambda(y,x)$\n",
    "\n",
    "** Example:** Reduce example\n",
    "\n",
    "The next operations apply a reduce that take two entries of the RDD and apply a sum them recursively since the sum of numbers satisfy the three conditions. \n",
    "\n",
    "<img src='static/reductionConcept.png' width=\"45%\" height=\"45%\" />\n",
    "\n",
    "The conceptual way to compute a distributed count using a mapd following by the last reduction.\n",
    "\n",
    "<img src='static/countDistirbuted.png' width=\"60%\" height=\"60%\" />\n"
   ]
  },
  {
   "cell_type": "code",
   "execution_count": 7,
   "metadata": {},
   "outputs": [
    {
     "name": "stdout",
     "output_type": "stream",
     "text": [
      "The sum of the entire rdd: 2478099.1799999997\n",
      "The count of the entire rdd: 5000\n",
      "The average is: 495.61983599999996\n",
      "The standar deviation is: 499.7599287420799\n"
     ]
    }
   ],
   "source": [
    "import math as mt\n",
    "\n",
    "theSumOfTheRDD = floatsRDD.reduce(lambda x,y: x+y)\n",
    "theCountOfTheRDD = floatsRDD.map(lambda x: 1).reduce(lambda x,y: x+y)\n",
    "mean = theSumOfTheRDD/theCountOfTheRDD\n",
    "sse = floatsRDD.map(lambda x: (x-mean)**2).reduce(lambda x,y: x+y)\n",
    "stDev = mt.sqrt(sse/(theCountOfTheRDD-1))\n",
    "\n",
    "print(\"The sum of the entire rdd: \"+str(theSumOfTheRDD))\n",
    "print(\"The count of the entire rdd: \"+str(theCountOfTheRDD))\n",
    "print(\"The average is: \"+str(mean))\n",
    "print(\"The standar deviation is: \"+str(stDev))"
   ]
  },
  {
   "cell_type": "markdown",
   "metadata": {},
   "source": [
    "Note that the count and the sum computing are indepents one each other, in other words it's possible describe de dependence of this tasks through a driagram of dependencies called **Directed Acyclic Graph (DAG)**.\n",
    "\n",
    "<br>\n",
    "<div align=\"center\">\n",
    "     <img src=\"static/dag1.png\" width=\"25%\">\n",
    "</div>\n",
    "\n",
    "**Example** Distributed max and min:"
   ]
  },
  {
   "cell_type": "code",
   "execution_count": 8,
   "metadata": {},
   "outputs": [
    {
     "name": "stdout",
     "output_type": "stream",
     "text": [
      "Max: 4561.86 Min: 0.06\n"
     ]
    }
   ],
   "source": [
    "# Defining some functions:\n",
    "def Max(x,y):\n",
    "    if(x<=y):\n",
    "        return y\n",
    "    else:\n",
    "        return x\n",
    "def Min(x,y):\n",
    "    if(x<=y):\n",
    "        return x\n",
    "    else:\n",
    "        return y\n",
    "\n",
    "myMax = floatsRDD.reduce(lambda x,y: Max(x,y))\n",
    "myMin = floatsRDD.reduce(lambda x,y: Min(x,y))\n",
    "\n",
    "print('Max: '+str(myMax)+' Min: '+str(myMin))"
   ]
  },
  {
   "cell_type": "markdown",
   "metadata": {},
   "source": [
    "### Excercises\n",
    "\n",
    "* Compute the harmonic mean and the geometric men for the rdd of amounts.\n",
    "\n",
    "* Generate the rdds performing the folllowing normalizations over the rdd of amounts:\n",
    "\n",
    "$$standarization(x) = \\frac{x - \\bar{x}}{s}$$\n",
    "\n",
    "$$scaling(x) = \\frac{x - \\bar{min}}{max - min}$$"
   ]
  },
  {
   "cell_type": "markdown",
   "metadata": {},
   "source": [
    "### FlatMap and reduce by key\n",
    "\n",
    "---\n",
    "\n",
    "**FlatMap:** Map and flatMap are similar, in the sense they take a line from the input RDD and apply a function on it. The way they differ is that the function in map returns only one element, while function in flatMap can return a list of elements (0 or more) as an iterator. Also, the output of the flatMap is flattened. Although the function in flatMap returns a list of elements, the flatMap returns an RDD which has all the elements from the list in a flat way.\n",
    "\n",
    "**Example** Spliting words:\n",
    "\n",
    "<br>\n",
    "<div align=\"center\">\n",
    "     <img src=\"static/flatmap.png\" width=\"45%\">\n",
    "</div>"
   ]
  },
  {
   "cell_type": "code",
   "execution_count": 9,
   "metadata": {},
   "outputs": [
    {
     "data": {
      "text/plain": [
       "['I AM SAM  I AM SAM  SAM I AM',\n",
       " 'THAT SAM I AM  THAT SAM I AM  I DO NOT LIKE THAT SAM I AM']"
      ]
     },
     "execution_count": 9,
     "metadata": {},
     "output_type": "execute_result"
    }
   ],
   "source": [
    "versesRDD = sc.textFile('data/green_eggs_and_ham.txt')\n",
    "versesRDD.take(2)"
   ]
  },
  {
   "cell_type": "code",
   "execution_count": 10,
   "metadata": {},
   "outputs": [
    {
     "data": {
      "text/plain": [
       "['I', 'AM', 'SAM', '', 'I']"
      ]
     },
     "execution_count": 10,
     "metadata": {},
     "output_type": "execute_result"
    }
   ],
   "source": [
    "wordsRDD = versesRDD.flatMap(lambda verse: verse.split(' '))\n",
    "wordsRDD.take(5)"
   ]
  },
  {
   "cell_type": "markdown",
   "metadata": {},
   "source": [
    "**Reduction By Key:** Is one step ahead then reduce function in Spark with the contradiction that it is a transformation operation, this operation that works only for RDDs which contains key and value pairs kind of elements (i.e RDDs having tuple or Map as a data element). It is a transformation operation which means it is lazily evaluated. We need to pass one associative function as a parameter, which will be applied to the source RDD and will create a new RDD as with resulting values(i.e. key value pair). This operation is a wide operation as data shuffling may happen across the partitions.\n",
    "\n",
    "**Example: ** Word Count\n",
    "\n",
    "<br>\n",
    "<div align=\"center\">\n",
    "     <img src=\"static/reducebykey.png\" width=\"60%\">\n",
    "</div>\n"
   ]
  },
  {
   "cell_type": "code",
   "execution_count": 11,
   "metadata": {},
   "outputs": [
    {
     "data": {
      "text/plain": [
       "[('SAM', 18),\n",
       " ('THAT', 3),\n",
       " ('LIKE', 44),\n",
       " ('YOU', 34),\n",
       " ('GREEN', 10),\n",
       " ('EGGS', 11),\n",
       " ('THEM', 58),\n",
       " ('ANYWHERE', 8),\n",
       " ('THEN', 1),\n",
       " ('EAT', 23),\n",
       " ('COULD', 14),\n",
       " ('CAR', 7),\n",
       " ('THEY', 2),\n",
       " ('ARE', 2),\n",
       " ('MAY', 4)]"
      ]
     },
     "execution_count": 11,
     "metadata": {},
     "output_type": "execute_result"
    }
   ],
   "source": [
    "countsRDD = wordsRDD.filter(lambda w: w!= '').map(lambda w: (w,1)).reduceByKey(lambda x,y: x+y)\n",
    "countsRDD.take(15)"
   ]
  },
  {
   "cell_type": "markdown",
   "metadata": {},
   "source": [
    "**Example**: Calculating Probability - Dice problem\n",
    "\n",
    "\n",
    "Lets supose that we have two dices with equal probability, each face of a die is marked with a different number from 1 to 6, so the two dice are rolled and the outcome of the first and secondone dice are sumed, How many possible outcomes can occur in this game, what is the probability of each of them?, If the dice have k faces?.\n",
    "\n",
    "First it's necesary to draw and list possible outcomes for the two dices:\n",
    "\n",
    "<br>\n",
    "<div align=\"center\">\n",
    "     <img src=\"static/dices1.gif\" width=\"45%\">\n",
    "</div>\n",
    "\n",
    "Since the two dice have same probability for each outcome, its possible group all the outcomes that have the same sum, and then count number cases for each outcome divided by the total of cases:\n",
    "\n",
    "<br>\n",
    "<div align=\"center\">\n",
    "     <img src=\"static/distributionSum.png\" width=\"50%\">\n",
    "</div>\n",
    "\n",
    "In cooding for k faces:"
   ]
  },
  {
   "cell_type": "code",
   "execution_count": 12,
   "metadata": {},
   "outputs": [
    {
     "data": {
      "text/plain": [
       "[(2, 1, 1), (3, 1, 2), (4, 1, 3), (5, 1, 4), (6, 1, 5), (7, 1, 6)]"
      ]
     },
     "execution_count": 12,
     "metadata": {},
     "output_type": "execute_result"
    }
   ],
   "source": [
    "import numpy as np\n",
    "\n",
    "def combineFace(face,k):\n",
    "    rolls = []\n",
    "    for i in np.arange(1,k+1):\n",
    "        rolls.append((face+i,face,i))\n",
    "    return rolls\n",
    "\n",
    "combineFace(1,6)"
   ]
  },
  {
   "cell_type": "code",
   "execution_count": 13,
   "metadata": {},
   "outputs": [
    {
     "data": {
      "text/plain": [
       "[(8, 0.1388888888888889),\n",
       " (9, 0.1111111111111111),\n",
       " (2, 0.027777777777777776),\n",
       " (10, 0.08333333333333333),\n",
       " (3, 0.05555555555555555),\n",
       " (11, 0.05555555555555555),\n",
       " (4, 0.08333333333333333),\n",
       " (12, 0.027777777777777776),\n",
       " (5, 0.1111111111111111),\n",
       " (6, 0.1388888888888889),\n",
       " (7, 0.16666666666666666)]"
      ]
     },
     "execution_count": 13,
     "metadata": {},
     "output_type": "execute_result"
    }
   ],
   "source": [
    "k = 6\n",
    "sc.broadcast(k)\n",
    "\n",
    "facesRDD = sc.parallelize(np.arange(1,k+1)).flatMap(lambda x: combineFace(x,k))\n",
    "totalOutcomes = facesRDD.count()\n",
    "sc.broadcast(totalOutcomes)\n",
    "\n",
    "#print('faces: '+str(facesRDD.map(lambda x:(x[1],x[2])).collect()))\n",
    "\n",
    "probilityRDD = facesRDD.map(lambda x: (x[0],1))\\\n",
    "                       .reduceByKey(lambda x,y: x+y)\\\n",
    "                       .map(lambda x: (x[0],x[1]/totalOutcomes))\n",
    "\n",
    "probilityRDD.collect()"
   ]
  },
  {
   "cell_type": "code",
   "execution_count": 14,
   "metadata": {},
   "outputs": [
    {
     "data": {
      "text/plain": [
       "<matplotlib.figure.Figure at 0x7f2eeee929b0>"
      ]
     },
     "metadata": {},
     "output_type": "display_data"
    }
   ],
   "source": [
    "import matplotlib.pyplot as plt\n",
    "\n",
    "plt.hist(facesRDD.map(lambda x: x[0]).collect(),bins=11)\n",
    "plt.show()"
   ]
  },
  {
   "cell_type": "markdown",
   "metadata": {},
   "source": [
    "**Example**: Simulating the sum of two dices"
   ]
  },
  {
   "cell_type": "code",
   "execution_count": 15,
   "metadata": {},
   "outputs": [],
   "source": [
    "import numpy as np\n",
    "import math as mt\n",
    "import matplotlib.pyplot as plt\n",
    "\n",
    "def rollDice(k):\n",
    "    u = np.random.uniform(0,1)\n",
    "    print(u)\n",
    "    return mt.floor(u*k)+1"
   ]
  },
  {
   "cell_type": "code",
   "execution_count": 27,
   "metadata": {},
   "outputs": [
    {
     "data": {
      "text/plain": [
       "[(8, 0.13933333333333334),\n",
       " (9, 0.11027777777777778),\n",
       " (10, 0.08394444444444445),\n",
       " (2, 0.02711111111111111),\n",
       " (3, 0.054),\n",
       " (11, 0.05488888888888889),\n",
       " (4, 0.08377777777777778),\n",
       " (12, 0.026111111111111113),\n",
       " (5, 0.10955555555555556),\n",
       " (6, 0.14483333333333334),\n",
       " (7, 0.16616666666666666)]"
      ]
     },
     "execution_count": 27,
     "metadata": {},
     "output_type": "execute_result"
    }
   ],
   "source": [
    "parts = 10\n",
    "rolls = 2000\n",
    "\n",
    "sc.broadcast(rolls)\n",
    "\n",
    "rollsRDD = sc.parallelize(np.arange(1,parts))\\\n",
    "                            .flatMap(lambda x: [1]*rolls)\\\n",
    "                            .map(lambda x: (rollDice(k)+rollDice(k),x))\n",
    "        \n",
    "totalRolls = rollsRDD.count()\n",
    "sc.broadcast(totalRolls)\n",
    "\n",
    "frequencyRolls = rollsRDD.reduceByKey(lambda x,y: x+y).map(lambda x: (x[0],x[1]/totalRolls))\n",
    "frequencyRolls.collect()"
   ]
  },
  {
   "cell_type": "code",
   "execution_count": 28,
   "metadata": {},
   "outputs": [
    {
     "data": {
      "image/png": "[encoded data removed]",
      "text/plain": [
       "<matplotlib.figure.Figure at 0x7f2edd046d68>"
      ]
     },
     "metadata": {},
     "output_type": "display_data"
    }
   ],
   "source": [
    "plt.figure(figsize=(15,8))\n",
    "plt.hist(rollsRDD.map(lambda x: x[0]).collect(),bins=11,alpha=1)\n",
    "plt.show()"
   ]
  },
  {
   "cell_type": "markdown",
   "metadata": {},
   "source": [
    "**Example**: Galtons Board\n",
    "\n",
    "Consider the vertical board shown below, where 5 rows of nails have been placed in a triangular shape. A ball dropped from the top collides with the first nail and falls to the lower left nail with probability p or lower to the right lower nail with probability 1-p, and so on until it falls into one of the 6 ballot boxes that are at the bottom.\n",
    "\n",
    "<br>\n",
    "<div align=\"center\">\n",
    "     <img src=\"static/GaltonBoard.png\" width=\"40%\">\n",
    "</div>\n",
    "\n",
    "Make a program in spark that simulates this process with a big number of balls and plot the histogram, consider the number boxes variable.\n",
    "\n",
    "<br>\n",
    "<div align=\"center\">\n",
    "     <img src=\"static/galtonSim.gif\" width=\"50%\">\n",
    "</div>\n",
    "\n"
   ]
  },
  {
   "cell_type": "code",
   "execution_count": 18,
   "metadata": {},
   "outputs": [],
   "source": [
    "import numpy as np\n",
    "import math as mt\n",
    "import matplotlib.pyplot as plt\n",
    "def bernoulliExp(p): return 1 if(np.random.uniform(0,1) <= p) else 0\n",
    "def binomialExp(n,p): return sum([bernoulliExp(p) for i in range(0,n)])"
   ]
  },
  {
   "cell_type": "code",
   "execution_count": 19,
   "metadata": {},
   "outputs": [
    {
     "data": {
      "text/plain": [
       "[(15, 0.14178333333333334),\n",
       " (10, 0.02785),\n",
       " (20, 0.028383333333333333),\n",
       " (5, 0.0004),\n",
       " (25, 0.00035),\n",
       " (16, 0.1352),\n",
       " (11, 0.05125),\n",
       " (21, 0.01375),\n",
       " (6, 0.0005833333333333334),\n",
       " (26, 1.6666666666666667e-05),\n",
       " (17, 0.11061666666666667),\n",
       " (12, 0.08321666666666666),\n",
       " (7, 0.0013333333333333333),\n",
       " (22, 0.00515),\n",
       " (13, 0.10911666666666667),\n",
       " (18, 0.0828),\n",
       " (23, 0.0017166666666666667),\n",
       " (8, 0.004883333333333333),\n",
       " (3, 6.666666666666667e-05),\n",
       " (19, 0.05503333333333333),\n",
       " (14, 0.13311666666666666),\n",
       " (9, 0.01255),\n",
       " (24, 0.0008333333333333334)]"
      ]
     },
     "execution_count": 19,
     "metadata": {},
     "output_type": "execute_result"
    }
   ],
   "source": [
    "slots = 30\n",
    "p = 0.5\n",
    "experimentsPertPartition = 2000 \n",
    "partitions = 5\n",
    "experimentsRDD = sc.parallelize(np.arange(1,slots+1),partitions)\\\n",
    "                   .flatMap(lambda x: [binomialExp(slots,p) for i in range(0,experimentsPertPartition)])\n",
    "countExperimentsRDD = experimentsRDD.map(lambda x: (x,1))\\\n",
    "                                    .reduceByKey(lambda x,y: x+y)\\\n",
    "                                    .map(lambda x: (x[0],x[1]/(slots*experimentsPertPartition)))\n",
    "countExperimentsRDD.collect()"
   ]
  },
  {
   "cell_type": "code",
   "execution_count": 20,
   "metadata": {},
   "outputs": [
    {
     "data": {
      "image/png": "[encoded data removed]",
      "text/plain": [
       "<matplotlib.figure.Figure at 0x7f2f22af5828>"
      ]
     },
     "metadata": {},
     "output_type": "display_data"
    }
   ],
   "source": [
    "x = [t[0] for t in countExperimentsRDD.collect()]\n",
    "y = [t[1] for t in countExperimentsRDD.collect()]\n",
    "plt.figure(figsize=(15,8))\n",
    "plt.bar(x,y,0.5)\n",
    "plt.show()"
   ]
  },
  {
   "cell_type": "markdown",
   "metadata": {},
   "source": [
    "**Example: Descriptive statistics - Computing a distirbuted histogram**"
   ]
  },
  {
   "cell_type": "code",
   "execution_count": 21,
   "metadata": {},
   "outputs": [],
   "source": [
    "def intervalClass(value):\n",
    "    interval = math.floor((value-minimum)/intervalLength)\n",
    "    if (interval >= bins):\n",
    "        return bins-1\n",
    "    else:\n",
    "        return interval"
   ]
  },
  {
   "cell_type": "code",
   "execution_count": 22,
   "metadata": {},
   "outputs": [
    {
     "data": {
      "text/plain": [
       "[(1, 0.06, 304.17999999999995, 0.4616),\n",
       " (3, 608.2999999999998, 912.4199999999998, 0.128),\n",
       " (5, 1216.5399999999997, 1520.6599999999996, 0.0398),\n",
       " (7, 1824.7799999999997, 2128.8999999999996, 0.0104),\n",
       " (11, 3041.2599999999993, 3345.379999999999, 0.0008),\n",
       " (9, 2433.0199999999995, 2737.1399999999994, 0.003),\n",
       " (15, 4257.74, 4561.86, 0.0006),\n",
       " (13, 3649.4999999999995, 3953.6199999999994, 0.0004),\n",
       " (2, 304.17999999999995, 608.2999999999998, 0.2504),\n",
       " (4, 912.4199999999998, 1216.5399999999997, 0.069),\n",
       " (8, 2128.8999999999996, 2433.0199999999995, 0.0072),\n",
       " (6, 1520.6599999999996, 1824.7799999999997, 0.0268),\n",
       " (12, 3345.379999999999, 3649.4999999999995, 0.0002),\n",
       " (10, 2737.1399999999994, 3041.2599999999993, 0.0018)]"
      ]
     },
     "execution_count": 22,
     "metadata": {},
     "output_type": "execute_result"
    }
   ],
   "source": [
    "import math\n",
    "bins = 15\n",
    "maximum = floatsRDD.max()\n",
    "minimum = floatsRDD.min()\n",
    "intervalLength = (maximum-minimum)/bins\n",
    "frequencyTableRDD = floatsRDD.map(lambda x:(intervalClass(x),1))\\\n",
    "                             .reduceByKey(lambda x,y: x+y)\\\n",
    "                             .map(lambda y:(y[0]+1,\\\n",
    "                                  minimum+intervalLength*y[0],\\\n",
    "                                  minimum+intervalLength*(y[0]+1),\\\n",
    "                                  y[1]/theCountOfTheRDD))\n",
    "frequencyTableRDD.collect()"
   ]
  },
  {
   "cell_type": "code",
   "execution_count": 23,
   "metadata": {},
   "outputs": [
    {
     "data": {
      "image/png": "[encoded data removed]",
      "text/plain": [
       "<matplotlib.figure.Figure at 0x7f2f22af5978>"
      ]
     },
     "metadata": {},
     "output_type": "display_data"
    }
   ],
   "source": [
    "import numpy as np\n",
    "import matplotlib.pyplot as plt\n",
    "x = frequencyTableRDD.map(lambda x: x[1]).collect()\n",
    "y = frequencyTableRDD.map(lambda x: x[3]).collect()\n",
    "plt.figure(figsize=(15,8))\n",
    "plt.bar(x,y,intervalLength)\n",
    "plt.show()"
   ]
  },
  {
   "cell_type": "markdown",
   "metadata": {},
   "source": [
    "Finding the curve that generates that patern"
   ]
  },
  {
   "cell_type": "code",
   "execution_count": 24,
   "metadata": {},
   "outputs": [
    {
     "data": {
      "text/plain": [
       "[<matplotlib.lines.Line2D at 0x7f2edd016be0>]"
      ]
     },
     "execution_count": 24,
     "metadata": {},
     "output_type": "execute_result"
    },
    {
     "data": {
      "image/png": "[encoded data removed]",
      "text/plain": [
       "<matplotlib.figure.Figure at 0x7f2f22af55f8>"
      ]
     },
     "metadata": {},
     "output_type": "display_data"
    }
   ],
   "source": [
    "from scipy.stats import expon\n",
    "estimator = floatsRDD.mean()\n",
    "\n",
    "plt.figure(figsize=(15,8))\n",
    "x_t = np.linspace(0,maximum,5000)\n",
    "plt.plot(x_t,expon.pdf(x_t,loc=0,scale=estimator))"
   ]
  },
  {
   "cell_type": "markdown",
   "metadata": {},
   "source": [
    "**Generating fake data**\n",
    "\n",
    "1. Lets take the last curve equation:\n",
    "$$f_X(x)=\\frac{1}{\\lambda}e^{\\left[\\frac{-x}{\\lambda}\\right]}$$\n",
    "\n",
    "2. Integrate the curve from 0 to x:\n",
    "$$F_X(x)=\\int_{0}^{x}  \\frac{1}{\\lambda}e^{\\left[\\frac{-x}{\\lambda}\\right]}dx=1-e^{\\left[\\frac{-x}{\\lambda}\\right]}$$\n",
    "\n",
    "3. Equate to a number $q$, and invert the function in order to put the $x$ as function of $q$.\n",
    "$$x(q) = -\\lambda Log(1-q)$$\n",
    "\n",
    "3. Compute the parameter $\\lambda$ as the mean of your data and generate a random number $q_0 \\in [0,1]$ and evaluate the function with $q_0$ given a fixed $\\hat{\\lambda}$.\n",
    "$$x = -\\hat{\\lambda} Log(1-q_0)$$\n",
    "\n",
    "4. Your fake x was generated, repeat the process n times, as n get bigger its better.\n"
   ]
  },
  {
   "cell_type": "code",
   "execution_count": 25,
   "metadata": {},
   "outputs": [],
   "source": [
    "dataLength = theCountOfTheRDD\n",
    "\n",
    "def quantileFunction(quantile,lambdaRate):\n",
    "    return -1*np.log(1-quantile)*lambdaRate\n",
    "\n",
    "simulatedAmountsRDD = sc.parallelize(dataLength*[1])\\\n",
    "                        .map(lambda x: np.random.uniform(0,1))\\\n",
    "                        .map(lambda x: quantileFunction(x,estimator))"
   ]
  },
  {
   "cell_type": "code",
   "execution_count": 26,
   "metadata": {},
   "outputs": [
    {
     "data": {
      "image/png": "[encoded data removed]",
      "text/plain": [
       "<matplotlib.figure.Figure at 0x7f2edcfe42e8>"
      ]
     },
     "metadata": {},
     "output_type": "display_data"
    }
   ],
   "source": [
    "bins = 15\n",
    "maximum = simulatedAmountsRDD.max()\n",
    "minimum = simulatedAmountsRDD.min()\n",
    "intervalLength = (maximum-minimum)/bins\n",
    "simulatedfrequencyTableRDD =  simulatedAmountsRDD.map(lambda x:(intervalClass(x),1))\\\n",
    "                                                 .reduceByKey(lambda x,y: x+y)\\\n",
    "                                                 .map(lambda y:(y[0]+1,\\\n",
    "                                                      minimum+intervalLength*y[0],\\\n",
    "                                                      minimum+intervalLength*(y[0]+1),\\\n",
    "                                                      y[1]/theCountOfTheRDD))\n",
    "x_s = simulatedfrequencyTableRDD.map(lambda x: x[1]).collect()\n",
    "y_s = simulatedfrequencyTableRDD.map(lambda x: x[3]).collect()\n",
    "plt.style.use('seaborn-whitegrid')\n",
    "plt.figure(figsize=(15,8))\n",
    "plt.bar(x_s,y_s,intervalLength)\n",
    "plt.show()"
   ]
  },
  {
   "cell_type": "markdown",
   "metadata": {},
   "source": [
    "### Excercises\n",
    "\n",
    "* Use the file **green_eggs_and_ham.txt** and obtain an rdd that contains the frequency table for the distribution of word lenghts. \n",
    "\n",
    "* For the rdds that contains the scaled and normalized values of amounts compute the histogram with 10 bins and plot the distirbutions.\n",
    "\n",
    "* Compute the cumulative distribution for the histogram of amounts and normalized amounts and plot the histogram.\n",
    "\n",
    "* Lets supose that we have two dices with equal probability, each face of a die is marked with a different number from 1 to 6, then just we choose the face with the largest number, How many possible outcomes can occur in this game, what is the probability of each of them?, If the dice have k sides?.\n",
    "\n",
    "<br>\n",
    "<div align=\"center\">\n",
    "     <img src=\"static/dices2.png\" width=\"28%\">\n",
    "</div>\n",
    "\n",
    "* Compute mean, variance, cumulative probability for the distributions of word lenghts, sum dices and max of twoo dices using the following formulas.\n",
    "\n",
    "$$\\bar{x}=\\sum_{x} (x) frequency(x) \\\\  s^2 = \\sum_{x} (x-\\bar{x})^2 frequency(x)  $$\n",
    "\n",
    "\n",
    "* Simulate this random variable and given a \"big number\" in order to aproximate the actual probabilities. "
   ]
  }
 ],
 "metadata": {
  "kernelspec": {
   "display_name": "Python 3",
   "language": "python",
   "name": "python3"
  },
  "language_info": {
   "codemirror_mode": {
    "name": "ipython",
    "version": 3
   },
   "file_extension": ".py",
   "mimetype": "text/x-python",
   "name": "python",
   "nbconvert_exporter": "python",
   "pygments_lexer": "ipython3",
   "version": "3.6.5"
  }
 },
 "nbformat": 4,
 "nbformat_minor": 2
}
